{
  "cells": [
    {
      "attachments": {},
      "cell_type": "markdown",
      "metadata": {
        "id": "H9wADwK78DCz"
      },
      "source": [
        "# Proyek Analisis Data: E-commerce Public Dataset\n",
        "- **Nama:** Syakhrul Afandi\n",
        "- **Email:** m008d4ky2924@bangkit.academy\n",
        "- **ID Dicoding:** syakhrul_afandi_b8m2"
      ]
    },
    {
      "attachments": {},
      "cell_type": "markdown",
      "metadata": {
        "id": "eE0raob58DC0"
      },
      "source": [
        "## Menentukan Pertanyaan Bisnis"
      ]
    },
    {
      "attachments": {},
      "cell_type": "markdown",
      "metadata": {
        "id": "GmQeQ5YF8DC0"
      },
      "source": [
        "- Apa saja 5 produk terlaris dan 5 produk paling tidak diminati?\n",
        "- Bagaimana tren penjualan produk terlaris?\n"
      ]
    },
    {
      "attachments": {},
      "cell_type": "markdown",
      "metadata": {
        "id": "H-z4QGlO8DC1"
      },
      "source": [
        "## Import Semua Packages/Library yang Digunakan"
      ]
    },
    {
      "cell_type": "code",
      "execution_count": 1,
      "metadata": {
        "id": "FVYwaObI8DC1"
      },
      "outputs": [],
      "source": [
        "import pandas as pd\n",
        "import numpy as np\n",
        "import matplotlib.pyplot as plt\n",
        "from datetime import datetime\n",
        "import re\n",
        "from sklearn.cluster import KMeans\n",
        "from sklearn.decomposition import PCA"
      ]
    },
    {
      "attachments": {},
      "cell_type": "markdown",
      "metadata": {
        "id": "h_Sh51Xy8DC1"
      },
      "source": [
        "## Data Wrangling"
      ]
    },
    {
      "attachments": {},
      "cell_type": "markdown",
      "metadata": {
        "id": "sXU2GBYu8DC1"
      },
      "source": [
        "### Gathering Data"
      ]
    },
    {
      "cell_type": "code",
      "execution_count": 2,
      "metadata": {
        "id": "zjCBk1BI8DC1"
      },
      "outputs": [],
      "source": [
        "#import seluruh dataframe yang ada\n",
        "order_items = pd.read_csv('https://raw.githubusercontent.com/syakhrul-afandi/ecommerce/main/Data%20E-commerce/olist_order_items_dataset.csv')\n",
        "orders = pd.read_csv('https://raw.githubusercontent.com/syakhrul-afandi/ecommerce/main/Data%20E-commerce/olist_orders_dataset.csv')\n",
        "products = pd.read_csv('https://raw.githubusercontent.com/syakhrul-afandi/ecommerce/main/Data%20E-commerce/olist_products_dataset.csv')\n",
        "product_category = pd.read_csv('https://raw.githubusercontent.com/syakhrul-afandi/ecommerce/main/Data%20E-commerce/product_category_name_translation.csv')"
      ]
    },
    {
      "attachments": {},
      "cell_type": "markdown",
      "metadata": {
        "id": "FHSiqaZp8DC1"
      },
      "source": [
        "### Assessing Data"
      ]
    },
    {
      "cell_type": "code",
      "execution_count": 3,
      "metadata": {
        "colab": {
          "base_uri": "https://localhost:8080/",
          "height": 226
        },
        "id": "Vd_1LwHWmLAu",
        "outputId": "672352dd-80e2-4819-fa99-7ce15a99da8c"
      },
      "outputs": [
        {
          "data": {
            "text/html": [
              "<div>\n",
              "<style scoped>\n",
              "    .dataframe tbody tr th:only-of-type {\n",
              "        vertical-align: middle;\n",
              "    }\n",
              "\n",
              "    .dataframe tbody tr th {\n",
              "        vertical-align: top;\n",
              "    }\n",
              "\n",
              "    .dataframe thead th {\n",
              "        text-align: right;\n",
              "    }\n",
              "</style>\n",
              "<table border=\"1\" class=\"dataframe\">\n",
              "  <thead>\n",
              "    <tr style=\"text-align: right;\">\n",
              "      <th></th>\n",
              "      <th>order_id</th>\n",
              "      <th>order_item_id</th>\n",
              "      <th>product_id</th>\n",
              "      <th>seller_id</th>\n",
              "      <th>shipping_limit_date</th>\n",
              "      <th>price</th>\n",
              "      <th>freight_value</th>\n",
              "    </tr>\n",
              "  </thead>\n",
              "  <tbody>\n",
              "    <tr>\n",
              "      <th>0</th>\n",
              "      <td>00010242fe8c5a6d1ba2dd792cb16214</td>\n",
              "      <td>1</td>\n",
              "      <td>4244733e06e7ecb4970a6e2683c13e61</td>\n",
              "      <td>48436dade18ac8b2bce089ec2a041202</td>\n",
              "      <td>2017-09-19 09:45:35</td>\n",
              "      <td>58.90</td>\n",
              "      <td>13.29</td>\n",
              "    </tr>\n",
              "    <tr>\n",
              "      <th>1</th>\n",
              "      <td>00018f77f2f0320c557190d7a144bdd3</td>\n",
              "      <td>1</td>\n",
              "      <td>e5f2d52b802189ee658865ca93d83a8f</td>\n",
              "      <td>dd7ddc04e1b6c2c614352b383efe2d36</td>\n",
              "      <td>2017-05-03 11:05:13</td>\n",
              "      <td>239.90</td>\n",
              "      <td>19.93</td>\n",
              "    </tr>\n",
              "    <tr>\n",
              "      <th>2</th>\n",
              "      <td>000229ec398224ef6ca0657da4fc703e</td>\n",
              "      <td>1</td>\n",
              "      <td>c777355d18b72b67abbeef9df44fd0fd</td>\n",
              "      <td>5b51032eddd242adc84c38acab88f23d</td>\n",
              "      <td>2018-01-18 14:48:30</td>\n",
              "      <td>199.00</td>\n",
              "      <td>17.87</td>\n",
              "    </tr>\n",
              "    <tr>\n",
              "      <th>3</th>\n",
              "      <td>00024acbcdf0a6daa1e931b038114c75</td>\n",
              "      <td>1</td>\n",
              "      <td>7634da152a4610f1595efa32f14722fc</td>\n",
              "      <td>9d7a1d34a5052409006425275ba1c2b4</td>\n",
              "      <td>2018-08-15 10:10:18</td>\n",
              "      <td>12.99</td>\n",
              "      <td>12.79</td>\n",
              "    </tr>\n",
              "    <tr>\n",
              "      <th>4</th>\n",
              "      <td>00042b26cf59d7ce69dfabb4e55b4fd9</td>\n",
              "      <td>1</td>\n",
              "      <td>ac6c3623068f30de03045865e4e10089</td>\n",
              "      <td>df560393f3a51e74553ab94004ba5c87</td>\n",
              "      <td>2017-02-13 13:57:51</td>\n",
              "      <td>199.90</td>\n",
              "      <td>18.14</td>\n",
              "    </tr>\n",
              "  </tbody>\n",
              "</table>\n",
              "</div>"
            ],
            "text/plain": [
              "                           order_id  order_item_id  \\\n",
              "0  00010242fe8c5a6d1ba2dd792cb16214              1   \n",
              "1  00018f77f2f0320c557190d7a144bdd3              1   \n",
              "2  000229ec398224ef6ca0657da4fc703e              1   \n",
              "3  00024acbcdf0a6daa1e931b038114c75              1   \n",
              "4  00042b26cf59d7ce69dfabb4e55b4fd9              1   \n",
              "\n",
              "                         product_id                         seller_id  \\\n",
              "0  4244733e06e7ecb4970a6e2683c13e61  48436dade18ac8b2bce089ec2a041202   \n",
              "1  e5f2d52b802189ee658865ca93d83a8f  dd7ddc04e1b6c2c614352b383efe2d36   \n",
              "2  c777355d18b72b67abbeef9df44fd0fd  5b51032eddd242adc84c38acab88f23d   \n",
              "3  7634da152a4610f1595efa32f14722fc  9d7a1d34a5052409006425275ba1c2b4   \n",
              "4  ac6c3623068f30de03045865e4e10089  df560393f3a51e74553ab94004ba5c87   \n",
              "\n",
              "   shipping_limit_date   price  freight_value  \n",
              "0  2017-09-19 09:45:35   58.90          13.29  \n",
              "1  2017-05-03 11:05:13  239.90          19.93  \n",
              "2  2018-01-18 14:48:30  199.00          17.87  \n",
              "3  2018-08-15 10:10:18   12.99          12.79  \n",
              "4  2017-02-13 13:57:51  199.90          18.14  "
            ]
          },
          "execution_count": 3,
          "metadata": {},
          "output_type": "execute_result"
        }
      ],
      "source": [
        "order_items.head()"
      ]
    },
    {
      "cell_type": "code",
      "execution_count": 4,
      "metadata": {
        "colab": {
          "base_uri": "https://localhost:8080/",
          "height": 226
        },
        "id": "JSBAorlinDS1",
        "outputId": "942c7d2c-8551-4f11-e98a-3dd60fa33580"
      },
      "outputs": [
        {
          "data": {
            "text/html": [
              "<div>\n",
              "<style scoped>\n",
              "    .dataframe tbody tr th:only-of-type {\n",
              "        vertical-align: middle;\n",
              "    }\n",
              "\n",
              "    .dataframe tbody tr th {\n",
              "        vertical-align: top;\n",
              "    }\n",
              "\n",
              "    .dataframe thead th {\n",
              "        text-align: right;\n",
              "    }\n",
              "</style>\n",
              "<table border=\"1\" class=\"dataframe\">\n",
              "  <thead>\n",
              "    <tr style=\"text-align: right;\">\n",
              "      <th></th>\n",
              "      <th>order_id</th>\n",
              "      <th>customer_id</th>\n",
              "      <th>order_status</th>\n",
              "      <th>order_purchase_timestamp</th>\n",
              "      <th>order_approved_at</th>\n",
              "      <th>order_delivered_carrier_date</th>\n",
              "      <th>order_delivered_customer_date</th>\n",
              "      <th>order_estimated_delivery_date</th>\n",
              "    </tr>\n",
              "  </thead>\n",
              "  <tbody>\n",
              "    <tr>\n",
              "      <th>0</th>\n",
              "      <td>e481f51cbdc54678b7cc49136f2d6af7</td>\n",
              "      <td>9ef432eb6251297304e76186b10a928d</td>\n",
              "      <td>delivered</td>\n",
              "      <td>2017-10-02 10:56:33</td>\n",
              "      <td>2017-10-02 11:07:15</td>\n",
              "      <td>2017-10-04 19:55:00</td>\n",
              "      <td>2017-10-10 21:25:13</td>\n",
              "      <td>2017-10-18 00:00:00</td>\n",
              "    </tr>\n",
              "    <tr>\n",
              "      <th>1</th>\n",
              "      <td>53cdb2fc8bc7dce0b6741e2150273451</td>\n",
              "      <td>b0830fb4747a6c6d20dea0b8c802d7ef</td>\n",
              "      <td>delivered</td>\n",
              "      <td>2018-07-24 20:41:37</td>\n",
              "      <td>2018-07-26 03:24:27</td>\n",
              "      <td>2018-07-26 14:31:00</td>\n",
              "      <td>2018-08-07 15:27:45</td>\n",
              "      <td>2018-08-13 00:00:00</td>\n",
              "    </tr>\n",
              "    <tr>\n",
              "      <th>2</th>\n",
              "      <td>47770eb9100c2d0c44946d9cf07ec65d</td>\n",
              "      <td>41ce2a54c0b03bf3443c3d931a367089</td>\n",
              "      <td>delivered</td>\n",
              "      <td>2018-08-08 08:38:49</td>\n",
              "      <td>2018-08-08 08:55:23</td>\n",
              "      <td>2018-08-08 13:50:00</td>\n",
              "      <td>2018-08-17 18:06:29</td>\n",
              "      <td>2018-09-04 00:00:00</td>\n",
              "    </tr>\n",
              "    <tr>\n",
              "      <th>3</th>\n",
              "      <td>949d5b44dbf5de918fe9c16f97b45f8a</td>\n",
              "      <td>f88197465ea7920adcdbec7375364d82</td>\n",
              "      <td>delivered</td>\n",
              "      <td>2017-11-18 19:28:06</td>\n",
              "      <td>2017-11-18 19:45:59</td>\n",
              "      <td>2017-11-22 13:39:59</td>\n",
              "      <td>2017-12-02 00:28:42</td>\n",
              "      <td>2017-12-15 00:00:00</td>\n",
              "    </tr>\n",
              "    <tr>\n",
              "      <th>4</th>\n",
              "      <td>ad21c59c0840e6cb83a9ceb5573f8159</td>\n",
              "      <td>8ab97904e6daea8866dbdbc4fb7aad2c</td>\n",
              "      <td>delivered</td>\n",
              "      <td>2018-02-13 21:18:39</td>\n",
              "      <td>2018-02-13 22:20:29</td>\n",
              "      <td>2018-02-14 19:46:34</td>\n",
              "      <td>2018-02-16 18:17:02</td>\n",
              "      <td>2018-02-26 00:00:00</td>\n",
              "    </tr>\n",
              "  </tbody>\n",
              "</table>\n",
              "</div>"
            ],
            "text/plain": [
              "                           order_id                       customer_id  \\\n",
              "0  e481f51cbdc54678b7cc49136f2d6af7  9ef432eb6251297304e76186b10a928d   \n",
              "1  53cdb2fc8bc7dce0b6741e2150273451  b0830fb4747a6c6d20dea0b8c802d7ef   \n",
              "2  47770eb9100c2d0c44946d9cf07ec65d  41ce2a54c0b03bf3443c3d931a367089   \n",
              "3  949d5b44dbf5de918fe9c16f97b45f8a  f88197465ea7920adcdbec7375364d82   \n",
              "4  ad21c59c0840e6cb83a9ceb5573f8159  8ab97904e6daea8866dbdbc4fb7aad2c   \n",
              "\n",
              "  order_status order_purchase_timestamp    order_approved_at  \\\n",
              "0    delivered      2017-10-02 10:56:33  2017-10-02 11:07:15   \n",
              "1    delivered      2018-07-24 20:41:37  2018-07-26 03:24:27   \n",
              "2    delivered      2018-08-08 08:38:49  2018-08-08 08:55:23   \n",
              "3    delivered      2017-11-18 19:28:06  2017-11-18 19:45:59   \n",
              "4    delivered      2018-02-13 21:18:39  2018-02-13 22:20:29   \n",
              "\n",
              "  order_delivered_carrier_date order_delivered_customer_date  \\\n",
              "0          2017-10-04 19:55:00           2017-10-10 21:25:13   \n",
              "1          2018-07-26 14:31:00           2018-08-07 15:27:45   \n",
              "2          2018-08-08 13:50:00           2018-08-17 18:06:29   \n",
              "3          2017-11-22 13:39:59           2017-12-02 00:28:42   \n",
              "4          2018-02-14 19:46:34           2018-02-16 18:17:02   \n",
              "\n",
              "  order_estimated_delivery_date  \n",
              "0           2017-10-18 00:00:00  \n",
              "1           2018-08-13 00:00:00  \n",
              "2           2018-09-04 00:00:00  \n",
              "3           2017-12-15 00:00:00  \n",
              "4           2018-02-26 00:00:00  "
            ]
          },
          "execution_count": 4,
          "metadata": {},
          "output_type": "execute_result"
        }
      ],
      "source": [
        "orders.head()"
      ]
    },
    {
      "cell_type": "code",
      "execution_count": 5,
      "metadata": {
        "colab": {
          "base_uri": "https://localhost:8080/"
        },
        "id": "aE7UADMkI1bY",
        "outputId": "e0a8b4f7-32ae-4fb4-9b4c-c7f388db2122"
      },
      "outputs": [
        {
          "name": "stdout",
          "output_type": "stream",
          "text": [
            "<class 'pandas.core.frame.DataFrame'>\n",
            "RangeIndex: 99441 entries, 0 to 99440\n",
            "Data columns (total 8 columns):\n",
            " #   Column                         Non-Null Count  Dtype \n",
            "---  ------                         --------------  ----- \n",
            " 0   order_id                       99441 non-null  object\n",
            " 1   customer_id                    99441 non-null  object\n",
            " 2   order_status                   99441 non-null  object\n",
            " 3   order_purchase_timestamp       99441 non-null  object\n",
            " 4   order_approved_at              99281 non-null  object\n",
            " 5   order_delivered_carrier_date   97658 non-null  object\n",
            " 6   order_delivered_customer_date  96476 non-null  object\n",
            " 7   order_estimated_delivery_date  99441 non-null  object\n",
            "dtypes: object(8)\n",
            "memory usage: 6.1+ MB\n"
          ]
        }
      ],
      "source": [
        "orders.info()"
      ]
    },
    {
      "cell_type": "code",
      "execution_count": 6,
      "metadata": {
        "colab": {
          "base_uri": "https://localhost:8080/"
        },
        "id": "2wTpoIHl8gB1",
        "outputId": "98bbbe51-40a0-4e50-d1b0-30e69fa79085"
      },
      "outputs": [
        {
          "data": {
            "text/plain": [
              "array(['delivered', 'invoiced', 'shipped', 'processing', 'unavailable',\n",
              "       'canceled', 'created', 'approved'], dtype=object)"
            ]
          },
          "execution_count": 6,
          "metadata": {},
          "output_type": "execute_result"
        }
      ],
      "source": [
        "orders['order_status'].unique()"
      ]
    },
    {
      "cell_type": "code",
      "execution_count": 7,
      "metadata": {
        "colab": {
          "base_uri": "https://localhost:8080/",
          "height": 226
        },
        "id": "5OQz1EjonhJc",
        "outputId": "02e23656-10dc-4d34-d5f0-4c7a51c5c63b"
      },
      "outputs": [
        {
          "data": {
            "text/html": [
              "<div>\n",
              "<style scoped>\n",
              "    .dataframe tbody tr th:only-of-type {\n",
              "        vertical-align: middle;\n",
              "    }\n",
              "\n",
              "    .dataframe tbody tr th {\n",
              "        vertical-align: top;\n",
              "    }\n",
              "\n",
              "    .dataframe thead th {\n",
              "        text-align: right;\n",
              "    }\n",
              "</style>\n",
              "<table border=\"1\" class=\"dataframe\">\n",
              "  <thead>\n",
              "    <tr style=\"text-align: right;\">\n",
              "      <th></th>\n",
              "      <th>product_id</th>\n",
              "      <th>product_category_name</th>\n",
              "      <th>product_name_lenght</th>\n",
              "      <th>product_description_lenght</th>\n",
              "      <th>product_photos_qty</th>\n",
              "      <th>product_weight_g</th>\n",
              "      <th>product_length_cm</th>\n",
              "      <th>product_height_cm</th>\n",
              "      <th>product_width_cm</th>\n",
              "    </tr>\n",
              "  </thead>\n",
              "  <tbody>\n",
              "    <tr>\n",
              "      <th>0</th>\n",
              "      <td>1e9e8ef04dbcff4541ed26657ea517e5</td>\n",
              "      <td>perfumaria</td>\n",
              "      <td>40.0</td>\n",
              "      <td>287.0</td>\n",
              "      <td>1.0</td>\n",
              "      <td>225.0</td>\n",
              "      <td>16.0</td>\n",
              "      <td>10.0</td>\n",
              "      <td>14.0</td>\n",
              "    </tr>\n",
              "    <tr>\n",
              "      <th>1</th>\n",
              "      <td>3aa071139cb16b67ca9e5dea641aaa2f</td>\n",
              "      <td>artes</td>\n",
              "      <td>44.0</td>\n",
              "      <td>276.0</td>\n",
              "      <td>1.0</td>\n",
              "      <td>1000.0</td>\n",
              "      <td>30.0</td>\n",
              "      <td>18.0</td>\n",
              "      <td>20.0</td>\n",
              "    </tr>\n",
              "    <tr>\n",
              "      <th>2</th>\n",
              "      <td>96bd76ec8810374ed1b65e291975717f</td>\n",
              "      <td>esporte_lazer</td>\n",
              "      <td>46.0</td>\n",
              "      <td>250.0</td>\n",
              "      <td>1.0</td>\n",
              "      <td>154.0</td>\n",
              "      <td>18.0</td>\n",
              "      <td>9.0</td>\n",
              "      <td>15.0</td>\n",
              "    </tr>\n",
              "    <tr>\n",
              "      <th>3</th>\n",
              "      <td>cef67bcfe19066a932b7673e239eb23d</td>\n",
              "      <td>bebes</td>\n",
              "      <td>27.0</td>\n",
              "      <td>261.0</td>\n",
              "      <td>1.0</td>\n",
              "      <td>371.0</td>\n",
              "      <td>26.0</td>\n",
              "      <td>4.0</td>\n",
              "      <td>26.0</td>\n",
              "    </tr>\n",
              "    <tr>\n",
              "      <th>4</th>\n",
              "      <td>9dc1a7de274444849c219cff195d0b71</td>\n",
              "      <td>utilidades_domesticas</td>\n",
              "      <td>37.0</td>\n",
              "      <td>402.0</td>\n",
              "      <td>4.0</td>\n",
              "      <td>625.0</td>\n",
              "      <td>20.0</td>\n",
              "      <td>17.0</td>\n",
              "      <td>13.0</td>\n",
              "    </tr>\n",
              "  </tbody>\n",
              "</table>\n",
              "</div>"
            ],
            "text/plain": [
              "                         product_id  product_category_name  \\\n",
              "0  1e9e8ef04dbcff4541ed26657ea517e5             perfumaria   \n",
              "1  3aa071139cb16b67ca9e5dea641aaa2f                  artes   \n",
              "2  96bd76ec8810374ed1b65e291975717f          esporte_lazer   \n",
              "3  cef67bcfe19066a932b7673e239eb23d                  bebes   \n",
              "4  9dc1a7de274444849c219cff195d0b71  utilidades_domesticas   \n",
              "\n",
              "   product_name_lenght  product_description_lenght  product_photos_qty  \\\n",
              "0                 40.0                       287.0                 1.0   \n",
              "1                 44.0                       276.0                 1.0   \n",
              "2                 46.0                       250.0                 1.0   \n",
              "3                 27.0                       261.0                 1.0   \n",
              "4                 37.0                       402.0                 4.0   \n",
              "\n",
              "   product_weight_g  product_length_cm  product_height_cm  product_width_cm  \n",
              "0             225.0               16.0               10.0              14.0  \n",
              "1            1000.0               30.0               18.0              20.0  \n",
              "2             154.0               18.0                9.0              15.0  \n",
              "3             371.0               26.0                4.0              26.0  \n",
              "4             625.0               20.0               17.0              13.0  "
            ]
          },
          "execution_count": 7,
          "metadata": {},
          "output_type": "execute_result"
        }
      ],
      "source": [
        "products.head()"
      ]
    },
    {
      "cell_type": "code",
      "execution_count": 8,
      "metadata": {
        "colab": {
          "base_uri": "https://localhost:8080/",
          "height": 206
        },
        "id": "vRy_xYTAn0et",
        "outputId": "56d5d432-261e-4f9f-98ec-d4b36526e537"
      },
      "outputs": [
        {
          "data": {
            "text/html": [
              "<div>\n",
              "<style scoped>\n",
              "    .dataframe tbody tr th:only-of-type {\n",
              "        vertical-align: middle;\n",
              "    }\n",
              "\n",
              "    .dataframe tbody tr th {\n",
              "        vertical-align: top;\n",
              "    }\n",
              "\n",
              "    .dataframe thead th {\n",
              "        text-align: right;\n",
              "    }\n",
              "</style>\n",
              "<table border=\"1\" class=\"dataframe\">\n",
              "  <thead>\n",
              "    <tr style=\"text-align: right;\">\n",
              "      <th></th>\n",
              "      <th>product_category_name</th>\n",
              "      <th>product_category_name_english</th>\n",
              "    </tr>\n",
              "  </thead>\n",
              "  <tbody>\n",
              "    <tr>\n",
              "      <th>0</th>\n",
              "      <td>beleza_saude</td>\n",
              "      <td>health_beauty</td>\n",
              "    </tr>\n",
              "    <tr>\n",
              "      <th>1</th>\n",
              "      <td>informatica_acessorios</td>\n",
              "      <td>computers_accessories</td>\n",
              "    </tr>\n",
              "    <tr>\n",
              "      <th>2</th>\n",
              "      <td>automotivo</td>\n",
              "      <td>auto</td>\n",
              "    </tr>\n",
              "    <tr>\n",
              "      <th>3</th>\n",
              "      <td>cama_mesa_banho</td>\n",
              "      <td>bed_bath_table</td>\n",
              "    </tr>\n",
              "    <tr>\n",
              "      <th>4</th>\n",
              "      <td>moveis_decoracao</td>\n",
              "      <td>furniture_decor</td>\n",
              "    </tr>\n",
              "  </tbody>\n",
              "</table>\n",
              "</div>"
            ],
            "text/plain": [
              "    product_category_name product_category_name_english\n",
              "0            beleza_saude                 health_beauty\n",
              "1  informatica_acessorios         computers_accessories\n",
              "2              automotivo                          auto\n",
              "3         cama_mesa_banho                bed_bath_table\n",
              "4        moveis_decoracao               furniture_decor"
            ]
          },
          "execution_count": 8,
          "metadata": {},
          "output_type": "execute_result"
        }
      ],
      "source": [
        "product_category.head()"
      ]
    },
    {
      "attachments": {},
      "cell_type": "markdown",
      "metadata": {
        "id": "EhN5R4hr8DC1"
      },
      "source": [
        "### Cleaning Data"
      ]
    },
    {
      "attachments": {},
      "cell_type": "markdown",
      "metadata": {
        "id": "XH99E0qIoiaH"
      },
      "source": [
        "#### Cek Missing Value"
      ]
    },
    {
      "cell_type": "code",
      "execution_count": 9,
      "metadata": {
        "colab": {
          "base_uri": "https://localhost:8080/"
        },
        "id": "9RGYErwGqpRc",
        "outputId": "f6ecfb8a-6d4a-44a4-db15-0d93408b7deb"
      },
      "outputs": [
        {
          "data": {
            "text/plain": [
              "order_id               0\n",
              "order_item_id          0\n",
              "product_id             0\n",
              "seller_id              0\n",
              "shipping_limit_date    0\n",
              "price                  0\n",
              "freight_value          0\n",
              "dtype: int64"
            ]
          },
          "execution_count": 9,
          "metadata": {},
          "output_type": "execute_result"
        }
      ],
      "source": [
        "order_items.isnull().sum()"
      ]
    },
    {
      "cell_type": "code",
      "execution_count": 10,
      "metadata": {
        "colab": {
          "base_uri": "https://localhost:8080/"
        },
        "id": "MHgoIPYKq4QK",
        "outputId": "ec97ba5d-7af4-486f-e435-3f7e42d1fd66"
      },
      "outputs": [
        {
          "data": {
            "text/plain": [
              "order_id                            0\n",
              "customer_id                         0\n",
              "order_status                        0\n",
              "order_purchase_timestamp            0\n",
              "order_approved_at                 160\n",
              "order_delivered_carrier_date     1783\n",
              "order_delivered_customer_date    2965\n",
              "order_estimated_delivery_date       0\n",
              "dtype: int64"
            ]
          },
          "execution_count": 10,
          "metadata": {},
          "output_type": "execute_result"
        }
      ],
      "source": [
        "orders.isnull().sum()"
      ]
    },
    {
      "cell_type": "code",
      "execution_count": 11,
      "metadata": {
        "colab": {
          "base_uri": "https://localhost:8080/"
        },
        "id": "3J6XT6xVrRJy",
        "outputId": "2e266436-d547-4204-8e1b-f25258b293be"
      },
      "outputs": [
        {
          "data": {
            "text/plain": [
              "product_id                      0\n",
              "product_category_name         610\n",
              "product_name_lenght           610\n",
              "product_description_lenght    610\n",
              "product_photos_qty            610\n",
              "product_weight_g                2\n",
              "product_length_cm               2\n",
              "product_height_cm               2\n",
              "product_width_cm                2\n",
              "dtype: int64"
            ]
          },
          "execution_count": 11,
          "metadata": {},
          "output_type": "execute_result"
        }
      ],
      "source": [
        "products.isnull().sum()"
      ]
    },
    {
      "attachments": {},
      "cell_type": "markdown",
      "metadata": {
        "id": "gp-Y6wU38DC1"
      },
      "source": [
        "## Exploratory Data Analysis (EDA)"
      ]
    },
    {
      "attachments": {},
      "cell_type": "markdown",
      "metadata": {
        "id": "MW7WF2kr8DC1"
      },
      "source": [
        "### Explore ..."
      ]
    },
    {
      "cell_type": "code",
      "execution_count": 12,
      "metadata": {
        "id": "e9CQCZjk8DC2"
      },
      "outputs": [],
      "source": [
        "#Membuat dataframe yang merupakan hasil dari join beberapa dataframe lain seperti products, order_items, orders, dan product_category\n",
        "df = pd.merge(pd.merge(pd.merge(products, order_items, on='product_id', how='outer'), orders, on='order_id', how='left'), product_category, on='product_category_name', how='outer')"
      ]
    },
    {
      "cell_type": "code",
      "execution_count": 13,
      "metadata": {
        "colab": {
          "base_uri": "https://localhost:8080/",
          "height": 256
        },
        "id": "8f-vuisXK9PS",
        "outputId": "3bdb223b-e7f9-4cc0-a627-54e358104651"
      },
      "outputs": [
        {
          "data": {
            "text/html": [
              "<div>\n",
              "<style scoped>\n",
              "    .dataframe tbody tr th:only-of-type {\n",
              "        vertical-align: middle;\n",
              "    }\n",
              "\n",
              "    .dataframe tbody tr th {\n",
              "        vertical-align: top;\n",
              "    }\n",
              "\n",
              "    .dataframe thead th {\n",
              "        text-align: right;\n",
              "    }\n",
              "</style>\n",
              "<table border=\"1\" class=\"dataframe\">\n",
              "  <thead>\n",
              "    <tr style=\"text-align: right;\">\n",
              "      <th></th>\n",
              "      <th>product_id</th>\n",
              "      <th>product_category_name</th>\n",
              "      <th>product_name_lenght</th>\n",
              "      <th>product_description_lenght</th>\n",
              "      <th>product_photos_qty</th>\n",
              "      <th>product_weight_g</th>\n",
              "      <th>product_length_cm</th>\n",
              "      <th>product_height_cm</th>\n",
              "      <th>product_width_cm</th>\n",
              "      <th>order_id</th>\n",
              "      <th>...</th>\n",
              "      <th>price</th>\n",
              "      <th>freight_value</th>\n",
              "      <th>customer_id</th>\n",
              "      <th>order_status</th>\n",
              "      <th>order_purchase_timestamp</th>\n",
              "      <th>order_approved_at</th>\n",
              "      <th>order_delivered_carrier_date</th>\n",
              "      <th>order_delivered_customer_date</th>\n",
              "      <th>order_estimated_delivery_date</th>\n",
              "      <th>product_category_name_english</th>\n",
              "    </tr>\n",
              "  </thead>\n",
              "  <tbody>\n",
              "    <tr>\n",
              "      <th>0</th>\n",
              "      <td>1e9e8ef04dbcff4541ed26657ea517e5</td>\n",
              "      <td>perfumaria</td>\n",
              "      <td>40.0</td>\n",
              "      <td>287.0</td>\n",
              "      <td>1.0</td>\n",
              "      <td>225.0</td>\n",
              "      <td>16.0</td>\n",
              "      <td>10.0</td>\n",
              "      <td>14.0</td>\n",
              "      <td>e17e4f88e31525f7deef66779844ddce</td>\n",
              "      <td>...</td>\n",
              "      <td>10.91</td>\n",
              "      <td>7.39</td>\n",
              "      <td>f8a3e963a310aa58b60a5b1fed5bceb5</td>\n",
              "      <td>delivered</td>\n",
              "      <td>2018-04-24 16:16:53</td>\n",
              "      <td>2018-04-24 19:04:19</td>\n",
              "      <td>2018-04-25 17:01:00</td>\n",
              "      <td>2018-04-27 16:42:17</td>\n",
              "      <td>2018-05-09 00:00:00</td>\n",
              "      <td>perfumery</td>\n",
              "    </tr>\n",
              "    <tr>\n",
              "      <th>1</th>\n",
              "      <td>6a2fb4dd53d2cdb88e0432f1284a004c</td>\n",
              "      <td>perfumaria</td>\n",
              "      <td>39.0</td>\n",
              "      <td>346.0</td>\n",
              "      <td>2.0</td>\n",
              "      <td>400.0</td>\n",
              "      <td>27.0</td>\n",
              "      <td>5.0</td>\n",
              "      <td>20.0</td>\n",
              "      <td>048cc42e03ca8d43c729adf6962cb348</td>\n",
              "      <td>...</td>\n",
              "      <td>16.90</td>\n",
              "      <td>7.78</td>\n",
              "      <td>12a2c614dfc8926e793516b1638c7471</td>\n",
              "      <td>delivered</td>\n",
              "      <td>2017-11-16 21:28:00</td>\n",
              "      <td>2017-11-17 21:35:39</td>\n",
              "      <td>2017-11-21 22:14:50</td>\n",
              "      <td>2017-11-23 15:39:38</td>\n",
              "      <td>2017-11-29 00:00:00</td>\n",
              "      <td>perfumery</td>\n",
              "    </tr>\n",
              "    <tr>\n",
              "      <th>2</th>\n",
              "      <td>6a2fb4dd53d2cdb88e0432f1284a004c</td>\n",
              "      <td>perfumaria</td>\n",
              "      <td>39.0</td>\n",
              "      <td>346.0</td>\n",
              "      <td>2.0</td>\n",
              "      <td>400.0</td>\n",
              "      <td>27.0</td>\n",
              "      <td>5.0</td>\n",
              "      <td>20.0</td>\n",
              "      <td>5fa78e91b5cb84b6a8ccc42733f95742</td>\n",
              "      <td>...</td>\n",
              "      <td>16.90</td>\n",
              "      <td>7.78</td>\n",
              "      <td>c15eed3881abc9e06763c989679c5094</td>\n",
              "      <td>delivered</td>\n",
              "      <td>2017-11-30 01:51:23</td>\n",
              "      <td>2017-12-08 16:33:14</td>\n",
              "      <td>2017-12-09 00:53:08</td>\n",
              "      <td>2017-12-13 20:52:32</td>\n",
              "      <td>2017-12-18 00:00:00</td>\n",
              "      <td>perfumery</td>\n",
              "    </tr>\n",
              "    <tr>\n",
              "      <th>3</th>\n",
              "      <td>0d009643171aee696f4733340bc2fdd0</td>\n",
              "      <td>perfumaria</td>\n",
              "      <td>52.0</td>\n",
              "      <td>150.0</td>\n",
              "      <td>1.0</td>\n",
              "      <td>422.0</td>\n",
              "      <td>21.0</td>\n",
              "      <td>16.0</td>\n",
              "      <td>18.0</td>\n",
              "      <td>24b1c4d88fdb7a2dc87f8ecc7d8f47f1</td>\n",
              "      <td>...</td>\n",
              "      <td>339.00</td>\n",
              "      <td>17.13</td>\n",
              "      <td>6d699e3ab0fd90fffb3d1379d937de77</td>\n",
              "      <td>delivered</td>\n",
              "      <td>2017-07-28 09:34:29</td>\n",
              "      <td>2017-07-28 09:50:14</td>\n",
              "      <td>2017-07-28 21:42:11</td>\n",
              "      <td>2017-08-08 16:03:45</td>\n",
              "      <td>2017-08-21 00:00:00</td>\n",
              "      <td>perfumery</td>\n",
              "    </tr>\n",
              "    <tr>\n",
              "      <th>4</th>\n",
              "      <td>0d009643171aee696f4733340bc2fdd0</td>\n",
              "      <td>perfumaria</td>\n",
              "      <td>52.0</td>\n",
              "      <td>150.0</td>\n",
              "      <td>1.0</td>\n",
              "      <td>422.0</td>\n",
              "      <td>21.0</td>\n",
              "      <td>16.0</td>\n",
              "      <td>18.0</td>\n",
              "      <td>7b13c77c64a9a956500cbf1a9a23798d</td>\n",
              "      <td>...</td>\n",
              "      <td>275.00</td>\n",
              "      <td>23.48</td>\n",
              "      <td>45d942b1af5529f8990f27848a40e645</td>\n",
              "      <td>delivered</td>\n",
              "      <td>2018-05-17 09:24:18</td>\n",
              "      <td>2018-05-17 10:38:35</td>\n",
              "      <td>2018-06-01 09:04:00</td>\n",
              "      <td>2018-06-07 19:12:50</td>\n",
              "      <td>2018-06-05 00:00:00</td>\n",
              "      <td>perfumery</td>\n",
              "    </tr>\n",
              "  </tbody>\n",
              "</table>\n",
              "<p>5 rows × 23 columns</p>\n",
              "</div>"
            ],
            "text/plain": [
              "                         product_id product_category_name  \\\n",
              "0  1e9e8ef04dbcff4541ed26657ea517e5            perfumaria   \n",
              "1  6a2fb4dd53d2cdb88e0432f1284a004c            perfumaria   \n",
              "2  6a2fb4dd53d2cdb88e0432f1284a004c            perfumaria   \n",
              "3  0d009643171aee696f4733340bc2fdd0            perfumaria   \n",
              "4  0d009643171aee696f4733340bc2fdd0            perfumaria   \n",
              "\n",
              "   product_name_lenght  product_description_lenght  product_photos_qty  \\\n",
              "0                 40.0                       287.0                 1.0   \n",
              "1                 39.0                       346.0                 2.0   \n",
              "2                 39.0                       346.0                 2.0   \n",
              "3                 52.0                       150.0                 1.0   \n",
              "4                 52.0                       150.0                 1.0   \n",
              "\n",
              "   product_weight_g  product_length_cm  product_height_cm  product_width_cm  \\\n",
              "0             225.0               16.0               10.0              14.0   \n",
              "1             400.0               27.0                5.0              20.0   \n",
              "2             400.0               27.0                5.0              20.0   \n",
              "3             422.0               21.0               16.0              18.0   \n",
              "4             422.0               21.0               16.0              18.0   \n",
              "\n",
              "                           order_id  ...   price freight_value  \\\n",
              "0  e17e4f88e31525f7deef66779844ddce  ...   10.91          7.39   \n",
              "1  048cc42e03ca8d43c729adf6962cb348  ...   16.90          7.78   \n",
              "2  5fa78e91b5cb84b6a8ccc42733f95742  ...   16.90          7.78   \n",
              "3  24b1c4d88fdb7a2dc87f8ecc7d8f47f1  ...  339.00         17.13   \n",
              "4  7b13c77c64a9a956500cbf1a9a23798d  ...  275.00         23.48   \n",
              "\n",
              "                        customer_id  order_status  order_purchase_timestamp  \\\n",
              "0  f8a3e963a310aa58b60a5b1fed5bceb5     delivered       2018-04-24 16:16:53   \n",
              "1  12a2c614dfc8926e793516b1638c7471     delivered       2017-11-16 21:28:00   \n",
              "2  c15eed3881abc9e06763c989679c5094     delivered       2017-11-30 01:51:23   \n",
              "3  6d699e3ab0fd90fffb3d1379d937de77     delivered       2017-07-28 09:34:29   \n",
              "4  45d942b1af5529f8990f27848a40e645     delivered       2018-05-17 09:24:18   \n",
              "\n",
              "     order_approved_at order_delivered_carrier_date  \\\n",
              "0  2018-04-24 19:04:19          2018-04-25 17:01:00   \n",
              "1  2017-11-17 21:35:39          2017-11-21 22:14:50   \n",
              "2  2017-12-08 16:33:14          2017-12-09 00:53:08   \n",
              "3  2017-07-28 09:50:14          2017-07-28 21:42:11   \n",
              "4  2018-05-17 10:38:35          2018-06-01 09:04:00   \n",
              "\n",
              "  order_delivered_customer_date order_estimated_delivery_date  \\\n",
              "0           2018-04-27 16:42:17           2018-05-09 00:00:00   \n",
              "1           2017-11-23 15:39:38           2017-11-29 00:00:00   \n",
              "2           2017-12-13 20:52:32           2017-12-18 00:00:00   \n",
              "3           2017-08-08 16:03:45           2017-08-21 00:00:00   \n",
              "4           2018-06-07 19:12:50           2018-06-05 00:00:00   \n",
              "\n",
              "  product_category_name_english  \n",
              "0                     perfumery  \n",
              "1                     perfumery  \n",
              "2                     perfumery  \n",
              "3                     perfumery  \n",
              "4                     perfumery  \n",
              "\n",
              "[5 rows x 23 columns]"
            ]
          },
          "execution_count": 13,
          "metadata": {},
          "output_type": "execute_result"
        }
      ],
      "source": [
        "df.head()"
      ]
    },
    {
      "cell_type": "code",
      "execution_count": 14,
      "metadata": {
        "colab": {
          "base_uri": "https://localhost:8080/"
        },
        "id": "AlFamz6FW2vX",
        "outputId": "3bab11ad-7147-4e32-83ad-c461b2ec7128"
      },
      "outputs": [
        {
          "name": "stdout",
          "output_type": "stream",
          "text": [
            "<class 'pandas.core.frame.DataFrame'>\n",
            "Int64Index: 112650 entries, 0 to 112649\n",
            "Data columns (total 23 columns):\n",
            " #   Column                         Non-Null Count   Dtype  \n",
            "---  ------                         --------------   -----  \n",
            " 0   product_id                     112650 non-null  object \n",
            " 1   product_category_name          111047 non-null  object \n",
            " 2   product_name_lenght            111047 non-null  float64\n",
            " 3   product_description_lenght     111047 non-null  float64\n",
            " 4   product_photos_qty             111047 non-null  float64\n",
            " 5   product_weight_g               112632 non-null  float64\n",
            " 6   product_length_cm              112632 non-null  float64\n",
            " 7   product_height_cm              112632 non-null  float64\n",
            " 8   product_width_cm               112632 non-null  float64\n",
            " 9   order_id                       112650 non-null  object \n",
            " 10  order_item_id                  112650 non-null  int64  \n",
            " 11  seller_id                      112650 non-null  object \n",
            " 12  shipping_limit_date            112650 non-null  object \n",
            " 13  price                          112650 non-null  float64\n",
            " 14  freight_value                  112650 non-null  float64\n",
            " 15  customer_id                    112650 non-null  object \n",
            " 16  order_status                   112650 non-null  object \n",
            " 17  order_purchase_timestamp       112650 non-null  object \n",
            " 18  order_approved_at              112635 non-null  object \n",
            " 19  order_delivered_carrier_date   111456 non-null  object \n",
            " 20  order_delivered_customer_date  110196 non-null  object \n",
            " 21  order_estimated_delivery_date  112650 non-null  object \n",
            " 22  product_category_name_english  111023 non-null  object \n",
            "dtypes: float64(9), int64(1), object(13)\n",
            "memory usage: 20.6+ MB\n"
          ]
        }
      ],
      "source": [
        "df.info()"
      ]
    },
    {
      "cell_type": "code",
      "execution_count": 15,
      "metadata": {
        "id": "RXJbTlD6K8gX"
      },
      "outputs": [],
      "source": [
        "bigten = df.groupby('product_category_name_english').size().sort_values(ascending=False).head(10)"
      ]
    },
    {
      "cell_type": "code",
      "execution_count": 16,
      "metadata": {
        "id": "yWYZmjDMNAlR"
      },
      "outputs": [],
      "source": [
        "lowest10 = df.groupby('product_category_name_english').size().sort_values(ascending=True).head(10)"
      ]
    },
    {
      "cell_type": "code",
      "execution_count": 17,
      "metadata": {
        "id": "y4g04QelOzIk"
      },
      "outputs": [],
      "source": [
        "#slicing df untuk mengambil informasi yang diperlukan untuk menjawab pertanyaan 2\n",
        "df_2 = df[['product_category_name_english', 'order_purchase_timestamp']]"
      ]
    },
    {
      "cell_type": "code",
      "execution_count": 18,
      "metadata": {
        "colab": {
          "base_uri": "https://localhost:8080/"
        },
        "id": "iSMdleQyP9yp",
        "outputId": "afee70f9-8e5f-4d8c-eb25-6edc64ea3b0f"
      },
      "outputs": [
        {
          "name": "stderr",
          "output_type": "stream",
          "text": [
            "C:\\Users\\HP\\AppData\\Local\\Temp\\ipykernel_10440\\2620893323.py:2: SettingWithCopyWarning: \n",
            "A value is trying to be set on a copy of a slice from a DataFrame.\n",
            "Try using .loc[row_indexer,col_indexer] = value instead\n",
            "\n",
            "See the caveats in the documentation: https://pandas.pydata.org/pandas-docs/stable/user_guide/indexing.html#returning-a-view-versus-a-copy\n",
            "  df_2['tanggal']=df_2['order_purchase_timestamp'].apply(lambda x: re.findall(r'^.{0,10}', x)[0])\n"
          ]
        }
      ],
      "source": [
        "#mengekstrak order_purchase_timestamp hanya menjadi tanggal saja\n",
        "df_2['tanggal']=df_2['order_purchase_timestamp'].apply(lambda x: re.findall(r'^.{0,10}', x)[0])"
      ]
    },
    {
      "cell_type": "code",
      "execution_count": 19,
      "metadata": {
        "id": "PzhQ6zPESQ-L"
      },
      "outputs": [],
      "source": [
        "#Mencari jumlah pernjualan per produk per hari\n",
        "df_2_clean = df_2.groupby(['product_category_name_english', 'tanggal']).size().reset_index(name='Count')"
      ]
    },
    {
      "cell_type": "code",
      "execution_count": 20,
      "metadata": {
        "colab": {
          "base_uri": "https://localhost:8080/",
          "height": 206
        },
        "id": "3NrhJicvTBa7",
        "outputId": "13d323bf-efbf-4376-82e2-1c810d314fa0"
      },
      "outputs": [
        {
          "data": {
            "text/html": [
              "<div>\n",
              "<style scoped>\n",
              "    .dataframe tbody tr th:only-of-type {\n",
              "        vertical-align: middle;\n",
              "    }\n",
              "\n",
              "    .dataframe tbody tr th {\n",
              "        vertical-align: top;\n",
              "    }\n",
              "\n",
              "    .dataframe thead th {\n",
              "        text-align: right;\n",
              "    }\n",
              "</style>\n",
              "<table border=\"1\" class=\"dataframe\">\n",
              "  <thead>\n",
              "    <tr style=\"text-align: right;\">\n",
              "      <th></th>\n",
              "      <th>product_category_name_english</th>\n",
              "      <th>tanggal</th>\n",
              "      <th>Count</th>\n",
              "    </tr>\n",
              "  </thead>\n",
              "  <tbody>\n",
              "    <tr>\n",
              "      <th>0</th>\n",
              "      <td>agro_industry_and_commerce</td>\n",
              "      <td>2017-01-23</td>\n",
              "      <td>2</td>\n",
              "    </tr>\n",
              "    <tr>\n",
              "      <th>1</th>\n",
              "      <td>agro_industry_and_commerce</td>\n",
              "      <td>2017-01-31</td>\n",
              "      <td>1</td>\n",
              "    </tr>\n",
              "    <tr>\n",
              "      <th>2</th>\n",
              "      <td>agro_industry_and_commerce</td>\n",
              "      <td>2017-02-05</td>\n",
              "      <td>1</td>\n",
              "    </tr>\n",
              "    <tr>\n",
              "      <th>3</th>\n",
              "      <td>agro_industry_and_commerce</td>\n",
              "      <td>2017-02-08</td>\n",
              "      <td>1</td>\n",
              "    </tr>\n",
              "    <tr>\n",
              "      <th>4</th>\n",
              "      <td>agro_industry_and_commerce</td>\n",
              "      <td>2017-02-12</td>\n",
              "      <td>1</td>\n",
              "    </tr>\n",
              "  </tbody>\n",
              "</table>\n",
              "</div>"
            ],
            "text/plain": [
              "  product_category_name_english     tanggal  Count\n",
              "0    agro_industry_and_commerce  2017-01-23      2\n",
              "1    agro_industry_and_commerce  2017-01-31      1\n",
              "2    agro_industry_and_commerce  2017-02-05      1\n",
              "3    agro_industry_and_commerce  2017-02-08      1\n",
              "4    agro_industry_and_commerce  2017-02-12      1"
            ]
          },
          "execution_count": 20,
          "metadata": {},
          "output_type": "execute_result"
        }
      ],
      "source": [
        "df_2_clean.head()"
      ]
    },
    {
      "cell_type": "code",
      "execution_count": 21,
      "metadata": {
        "colab": {
          "base_uri": "https://localhost:8080/",
          "height": 424
        },
        "id": "X288cY28ZeH2",
        "outputId": "d9197e0a-d438-4dcf-939b-cfcb036c8f54"
      },
      "outputs": [
        {
          "data": {
            "text/html": [
              "<div>\n",
              "<style scoped>\n",
              "    .dataframe tbody tr th:only-of-type {\n",
              "        vertical-align: middle;\n",
              "    }\n",
              "\n",
              "    .dataframe tbody tr th {\n",
              "        vertical-align: top;\n",
              "    }\n",
              "\n",
              "    .dataframe thead th {\n",
              "        text-align: right;\n",
              "    }\n",
              "</style>\n",
              "<table border=\"1\" class=\"dataframe\">\n",
              "  <thead>\n",
              "    <tr style=\"text-align: right;\">\n",
              "      <th></th>\n",
              "      <th>product_category_name_english</th>\n",
              "      <th>tanggal</th>\n",
              "      <th>Count</th>\n",
              "    </tr>\n",
              "  </thead>\n",
              "  <tbody>\n",
              "    <tr>\n",
              "      <th>1895</th>\n",
              "      <td>bed_bath_table</td>\n",
              "      <td>2016-10-04</td>\n",
              "      <td>2</td>\n",
              "    </tr>\n",
              "    <tr>\n",
              "      <th>1896</th>\n",
              "      <td>bed_bath_table</td>\n",
              "      <td>2016-10-05</td>\n",
              "      <td>1</td>\n",
              "    </tr>\n",
              "    <tr>\n",
              "      <th>1897</th>\n",
              "      <td>bed_bath_table</td>\n",
              "      <td>2016-10-06</td>\n",
              "      <td>1</td>\n",
              "    </tr>\n",
              "    <tr>\n",
              "      <th>1898</th>\n",
              "      <td>bed_bath_table</td>\n",
              "      <td>2016-10-09</td>\n",
              "      <td>4</td>\n",
              "    </tr>\n",
              "    <tr>\n",
              "      <th>1899</th>\n",
              "      <td>bed_bath_table</td>\n",
              "      <td>2017-01-08</td>\n",
              "      <td>1</td>\n",
              "    </tr>\n",
              "    <tr>\n",
              "      <th>...</th>\n",
              "      <td>...</td>\n",
              "      <td>...</td>\n",
              "      <td>...</td>\n",
              "    </tr>\n",
              "    <tr>\n",
              "      <th>2488</th>\n",
              "      <td>bed_bath_table</td>\n",
              "      <td>2018-08-24</td>\n",
              "      <td>7</td>\n",
              "    </tr>\n",
              "    <tr>\n",
              "      <th>2489</th>\n",
              "      <td>bed_bath_table</td>\n",
              "      <td>2018-08-25</td>\n",
              "      <td>8</td>\n",
              "    </tr>\n",
              "    <tr>\n",
              "      <th>2490</th>\n",
              "      <td>bed_bath_table</td>\n",
              "      <td>2018-08-26</td>\n",
              "      <td>4</td>\n",
              "    </tr>\n",
              "    <tr>\n",
              "      <th>2491</th>\n",
              "      <td>bed_bath_table</td>\n",
              "      <td>2018-08-27</td>\n",
              "      <td>7</td>\n",
              "    </tr>\n",
              "    <tr>\n",
              "      <th>2492</th>\n",
              "      <td>bed_bath_table</td>\n",
              "      <td>2018-08-28</td>\n",
              "      <td>5</td>\n",
              "    </tr>\n",
              "  </tbody>\n",
              "</table>\n",
              "<p>598 rows × 3 columns</p>\n",
              "</div>"
            ],
            "text/plain": [
              "     product_category_name_english     tanggal  Count\n",
              "1895                bed_bath_table  2016-10-04      2\n",
              "1896                bed_bath_table  2016-10-05      1\n",
              "1897                bed_bath_table  2016-10-06      1\n",
              "1898                bed_bath_table  2016-10-09      4\n",
              "1899                bed_bath_table  2017-01-08      1\n",
              "...                            ...         ...    ...\n",
              "2488                bed_bath_table  2018-08-24      7\n",
              "2489                bed_bath_table  2018-08-25      8\n",
              "2490                bed_bath_table  2018-08-26      4\n",
              "2491                bed_bath_table  2018-08-27      7\n",
              "2492                bed_bath_table  2018-08-28      5\n",
              "\n",
              "[598 rows x 3 columns]"
            ]
          },
          "execution_count": 21,
          "metadata": {},
          "output_type": "execute_result"
        }
      ],
      "source": [
        "final_2=df_2_clean[df_2_clean['product_category_name_english'].isin(['bed_bath_table'])]\n",
        "final_2"
      ]
    },
    {
      "cell_type": "code",
      "execution_count": 22,
      "metadata": {
        "colab": {
          "base_uri": "https://localhost:8080/"
        },
        "id": "aF14dgsKMPLe",
        "outputId": "e9231ad5-75d6-44cf-8709-0a7e365294a0"
      },
      "outputs": [
        {
          "name": "stderr",
          "output_type": "stream",
          "text": [
            "C:\\Users\\HP\\AppData\\Local\\Temp\\ipykernel_10440\\4226755744.py:2: SettingWithCopyWarning: \n",
            "A value is trying to be set on a copy of a slice from a DataFrame\n",
            "\n",
            "See the caveats in the documentation: https://pandas.pydata.org/pandas-docs/stable/user_guide/indexing.html#returning-a-view-versus-a-copy\n",
            "  final_2['tanggal'].iloc[i] = datetime.strptime(final_2['tanggal'].iloc[i], '%Y-%m-%d').date()\n"
          ]
        }
      ],
      "source": [
        "for i in range(final_2.shape[0]):\n",
        "  final_2['tanggal'].iloc[i] = datetime.strptime(final_2['tanggal'].iloc[i], '%Y-%m-%d').date()"
      ]
    },
    {
      "cell_type": "code",
      "execution_count": 23,
      "metadata": {
        "colab": {
          "base_uri": "https://localhost:8080/"
        },
        "id": "e4DWBVFFKCm0",
        "outputId": "e72274d6-9127-457a-9f19-599c8d4d5a67"
      },
      "outputs": [
        {
          "name": "stderr",
          "output_type": "stream",
          "text": [
            "C:\\Users\\HP\\AppData\\Local\\Temp\\ipykernel_10440\\1186468991.py:1: SettingWithCopyWarning: \n",
            "A value is trying to be set on a copy of a slice from a DataFrame.\n",
            "Try using .loc[row_indexer,col_indexer] = value instead\n",
            "\n",
            "See the caveats in the documentation: https://pandas.pydata.org/pandas-docs/stable/user_guide/indexing.html#returning-a-view-versus-a-copy\n",
            "  final_2['tanggal'] = pd.to_datetime(final_2['tanggal'])\n"
          ]
        }
      ],
      "source": [
        "final_2['tanggal'] = pd.to_datetime(final_2['tanggal'])\n",
        "penjualan_per_bulan = final_2.groupby(final_2['tanggal'].dt.to_period('M')).sum()"
      ]
    },
    {
      "cell_type": "code",
      "execution_count": 24,
      "metadata": {
        "colab": {
          "base_uri": "https://localhost:8080/",
          "height": 739
        },
        "id": "bgURg7TqOF1f",
        "outputId": "4bd4116b-2973-43c8-84f9-5c58806680d9"
      },
      "outputs": [
        {
          "data": {
            "text/html": [
              "<div>\n",
              "<style scoped>\n",
              "    .dataframe tbody tr th:only-of-type {\n",
              "        vertical-align: middle;\n",
              "    }\n",
              "\n",
              "    .dataframe tbody tr th {\n",
              "        vertical-align: top;\n",
              "    }\n",
              "\n",
              "    .dataframe thead th {\n",
              "        text-align: right;\n",
              "    }\n",
              "</style>\n",
              "<table border=\"1\" class=\"dataframe\">\n",
              "  <thead>\n",
              "    <tr style=\"text-align: right;\">\n",
              "      <th></th>\n",
              "      <th>Count</th>\n",
              "    </tr>\n",
              "    <tr>\n",
              "      <th>tanggal</th>\n",
              "      <th></th>\n",
              "    </tr>\n",
              "  </thead>\n",
              "  <tbody>\n",
              "    <tr>\n",
              "      <th>2016-10</th>\n",
              "      <td>8</td>\n",
              "    </tr>\n",
              "    <tr>\n",
              "      <th>2017-01</th>\n",
              "      <td>48</td>\n",
              "    </tr>\n",
              "    <tr>\n",
              "      <th>2017-02</th>\n",
              "      <td>165</td>\n",
              "    </tr>\n",
              "    <tr>\n",
              "      <th>2017-03</th>\n",
              "      <td>289</td>\n",
              "    </tr>\n",
              "    <tr>\n",
              "      <th>2017-04</th>\n",
              "      <td>274</td>\n",
              "    </tr>\n",
              "    <tr>\n",
              "      <th>2017-05</th>\n",
              "      <td>369</td>\n",
              "    </tr>\n",
              "    <tr>\n",
              "      <th>2017-06</th>\n",
              "      <td>382</td>\n",
              "    </tr>\n",
              "    <tr>\n",
              "      <th>2017-07</th>\n",
              "      <td>579</td>\n",
              "    </tr>\n",
              "    <tr>\n",
              "      <th>2017-08</th>\n",
              "      <td>512</td>\n",
              "    </tr>\n",
              "    <tr>\n",
              "      <th>2017-09</th>\n",
              "      <td>533</td>\n",
              "    </tr>\n",
              "    <tr>\n",
              "      <th>2017-10</th>\n",
              "      <td>545</td>\n",
              "    </tr>\n",
              "    <tr>\n",
              "      <th>2017-11</th>\n",
              "      <td>975</td>\n",
              "    </tr>\n",
              "    <tr>\n",
              "      <th>2017-12</th>\n",
              "      <td>552</td>\n",
              "    </tr>\n",
              "    <tr>\n",
              "      <th>2018-01</th>\n",
              "      <td>848</td>\n",
              "    </tr>\n",
              "    <tr>\n",
              "      <th>2018-02</th>\n",
              "      <td>690</td>\n",
              "    </tr>\n",
              "    <tr>\n",
              "      <th>2018-03</th>\n",
              "      <td>798</td>\n",
              "    </tr>\n",
              "    <tr>\n",
              "      <th>2018-04</th>\n",
              "      <td>746</td>\n",
              "    </tr>\n",
              "    <tr>\n",
              "      <th>2018-05</th>\n",
              "      <td>747</td>\n",
              "    </tr>\n",
              "    <tr>\n",
              "      <th>2018-06</th>\n",
              "      <td>773</td>\n",
              "    </tr>\n",
              "    <tr>\n",
              "      <th>2018-07</th>\n",
              "      <td>624</td>\n",
              "    </tr>\n",
              "    <tr>\n",
              "      <th>2018-08</th>\n",
              "      <td>658</td>\n",
              "    </tr>\n",
              "  </tbody>\n",
              "</table>\n",
              "</div>"
            ],
            "text/plain": [
              "         Count\n",
              "tanggal       \n",
              "2016-10      8\n",
              "2017-01     48\n",
              "2017-02    165\n",
              "2017-03    289\n",
              "2017-04    274\n",
              "2017-05    369\n",
              "2017-06    382\n",
              "2017-07    579\n",
              "2017-08    512\n",
              "2017-09    533\n",
              "2017-10    545\n",
              "2017-11    975\n",
              "2017-12    552\n",
              "2018-01    848\n",
              "2018-02    690\n",
              "2018-03    798\n",
              "2018-04    746\n",
              "2018-05    747\n",
              "2018-06    773\n",
              "2018-07    624\n",
              "2018-08    658"
            ]
          },
          "execution_count": 24,
          "metadata": {},
          "output_type": "execute_result"
        }
      ],
      "source": [
        "penjualan_per_bulan"
      ]
    },
    {
      "attachments": {},
      "cell_type": "markdown",
      "metadata": {
        "id": "zsyZjqak8DC2"
      },
      "source": [
        "## Visualization & Explanatory Analysis"
      ]
    },
    {
      "attachments": {},
      "cell_type": "markdown",
      "metadata": {
        "id": "HZxOiQ6n8DC2"
      },
      "source": [
        "### Pertanyaan 1:"
      ]
    },
    {
      "cell_type": "code",
      "execution_count": 25,
      "metadata": {
        "colab": {
          "base_uri": "https://localhost:8080/",
          "height": 636
        },
        "id": "1swJUdAD8DC2",
        "outputId": "19f19a7a-340f-4867-b26a-09d5b09c40fe"
      },
      "outputs": [
        {
          "data": {
            "text/plain": [
              "Text(0.5, 1.0, 'Jumlah Produk per Kategori')"
            ]
          },
          "execution_count": 25,
          "metadata": {},
          "output_type": "execute_result"
        },
        {
          "data": {
            "image/png": "[encoded data removed]",
            "text/plain": [
              "<Figure size 640x480 with 1 Axes>"
            ]
          },
          "metadata": {},
          "output_type": "display_data"
        }
      ],
      "source": [
        "#Membuat plot untuk 10 kategori terlaris\n",
        "bigten.plot(kind='bar')\n",
        "plt.xlabel('Kategori Produk')\n",
        "plt.ylabel('Jumlah Produk')\n",
        "plt.title('Jumlah Produk per Kategori')"
      ]
    },
    {
      "cell_type": "code",
      "execution_count": 26,
      "metadata": {
        "colab": {
          "base_uri": "https://localhost:8080/",
          "height": 717
        },
        "id": "XJbkxOZjO5nK",
        "outputId": "912af419-4d30-4704-be2e-88b41fdea807"
      },
      "outputs": [
        {
          "data": {
            "text/plain": [
              "Text(0.5, 1.0, 'Jumlah Produk per Kategori')"
            ]
          },
          "execution_count": 26,
          "metadata": {},
          "output_type": "execute_result"
        },
        {
          "data": {
            "image/png": "[encoded data removed]",
            "text/plain": [
              "<Figure size 640x480 with 1 Axes>"
            ]
          },
          "metadata": {},
          "output_type": "display_data"
        }
      ],
      "source": [
        "#Membuat plot untuk 10 kategori paling kurang diminati\n",
        "lowest10.plot(kind='bar')\n",
        "plt.xlabel('Kategori Produk')\n",
        "plt.ylabel('Jumlah Produk')\n",
        "plt.title('Jumlah Produk per Kategori')"
      ]
    },
    {
      "attachments": {},
      "cell_type": "markdown",
      "metadata": {
        "id": "DgHI7CiU8DC2"
      },
      "source": [
        "### Pertanyaan 2:"
      ]
    },
    {
      "cell_type": "code",
      "execution_count": 27,
      "metadata": {
        "colab": {
          "base_uri": "https://localhost:8080/",
          "height": 607
        },
        "id": "Go0lCsvO8DC2",
        "outputId": "ed9195ad-1d5e-4bc2-ce89-194ef5c71568"
      },
      "outputs": [
        {
          "data": {
            "image/png": "[encoded data removed]",
            "text/plain": [
              "<Figure size 1000x600 with 1 Axes>"
            ]
          },
          "metadata": {},
          "output_type": "display_data"
        }
      ],
      "source": [
        "plt.figure(figsize=(10, 6))\n",
        "plt.plot(penjualan_per_bulan.index.astype(str), penjualan_per_bulan['Count'], marker='o', color='b', linestyle='-')\n",
        "\n",
        "plt.xlabel('Bulan')\n",
        "plt.ylabel('Jumlah Penjualan')\n",
        "plt.title('Tren Penjualan Bulanan bed_bath_table')\n",
        "\n",
        "\n",
        "plt.grid(True)\n",
        "\n",
        "\n",
        "plt.xticks(rotation=45)\n",
        "plt.tight_layout()\n",
        "plt.show()"
      ]
    },
    {
      "attachments": {},
      "cell_type": "markdown",
      "metadata": {
        "id": "_WeHlCeX8DC2"
      },
      "source": [
        "## Conclusion"
      ]
    },
    {
      "attachments": {},
      "cell_type": "markdown",
      "metadata": {
        "id": "ZTcyR48Y8DC2"
      },
      "source": [
        "- Conclution Pertanyaan 1:\n",
        "1. 10 Produk Terlaris yakni: bed_bath_table, health_beauty, sports_leisure, furniture_decor, computers_accessories, housewares, mwatches_gifts, telephony, garden_tools, dan auto\n",
        "2. 10 Produk Paling Kurang Diminati: security_and_services, fashion_childrens_clothes, la_cuisine, cds_dvds_musicals, arts_and_craftmanship, fashion_sport, home_comfort_2, flowers, furniture_mattres_and_upholstery, music\n",
        "- Conclution pertanyaan 2:\n",
        "Dari plot yang terbentuk, dapat disimpulkan bahwa tren penjualan bed_bath_table memiliki tren naik dari waktu ke waktu"
      ]
    },
    {
      "attachments": {},
      "cell_type": "markdown",
      "metadata": {
        "id": "4PutQt0AtzFD"
      },
      "source": [
        "#CLUSTERING"
      ]
    },
    {
      "cell_type": "code",
      "execution_count": 28,
      "metadata": {
        "colab": {
          "base_uri": "https://localhost:8080/",
          "height": 444
        },
        "id": "xEnoJ2Uyt1NX",
        "outputId": "c6b9e437-6aeb-40e0-badf-2bb2e2c2df1b"
      },
      "outputs": [
        {
          "data": {
            "text/html": [
              "<div>\n",
              "<style scoped>\n",
              "    .dataframe tbody tr th:only-of-type {\n",
              "        vertical-align: middle;\n",
              "    }\n",
              "\n",
              "    .dataframe tbody tr th {\n",
              "        vertical-align: top;\n",
              "    }\n",
              "\n",
              "    .dataframe thead th {\n",
              "        text-align: right;\n",
              "    }\n",
              "</style>\n",
              "<table border=\"1\" class=\"dataframe\">\n",
              "  <thead>\n",
              "    <tr style=\"text-align: right;\">\n",
              "      <th></th>\n",
              "      <th>product_id</th>\n",
              "      <th>product_category_name_english</th>\n",
              "      <th>product_weight_g</th>\n",
              "      <th>product_length_cm</th>\n",
              "      <th>product_height_cm</th>\n",
              "      <th>product_width_cm</th>\n",
              "      <th>price</th>\n",
              "      <th>count_sold</th>\n",
              "    </tr>\n",
              "  </thead>\n",
              "  <tbody>\n",
              "    <tr>\n",
              "      <th>0</th>\n",
              "      <td>1e9e8ef04dbcff4541ed26657ea517e5</td>\n",
              "      <td>perfumery</td>\n",
              "      <td>225.0</td>\n",
              "      <td>16.0</td>\n",
              "      <td>10.0</td>\n",
              "      <td>14.0</td>\n",
              "      <td>10.91</td>\n",
              "      <td>1</td>\n",
              "    </tr>\n",
              "    <tr>\n",
              "      <th>1</th>\n",
              "      <td>6a2fb4dd53d2cdb88e0432f1284a004c</td>\n",
              "      <td>perfumery</td>\n",
              "      <td>400.0</td>\n",
              "      <td>27.0</td>\n",
              "      <td>5.0</td>\n",
              "      <td>20.0</td>\n",
              "      <td>16.90</td>\n",
              "      <td>2</td>\n",
              "    </tr>\n",
              "    <tr>\n",
              "      <th>2</th>\n",
              "      <td>6a2fb4dd53d2cdb88e0432f1284a004c</td>\n",
              "      <td>perfumery</td>\n",
              "      <td>400.0</td>\n",
              "      <td>27.0</td>\n",
              "      <td>5.0</td>\n",
              "      <td>20.0</td>\n",
              "      <td>16.90</td>\n",
              "      <td>2</td>\n",
              "    </tr>\n",
              "    <tr>\n",
              "      <th>3</th>\n",
              "      <td>0d009643171aee696f4733340bc2fdd0</td>\n",
              "      <td>perfumery</td>\n",
              "      <td>422.0</td>\n",
              "      <td>21.0</td>\n",
              "      <td>16.0</td>\n",
              "      <td>18.0</td>\n",
              "      <td>339.00</td>\n",
              "      <td>11</td>\n",
              "    </tr>\n",
              "    <tr>\n",
              "      <th>4</th>\n",
              "      <td>0d009643171aee696f4733340bc2fdd0</td>\n",
              "      <td>perfumery</td>\n",
              "      <td>422.0</td>\n",
              "      <td>21.0</td>\n",
              "      <td>16.0</td>\n",
              "      <td>18.0</td>\n",
              "      <td>275.00</td>\n",
              "      <td>11</td>\n",
              "    </tr>\n",
              "    <tr>\n",
              "      <th>...</th>\n",
              "      <td>...</td>\n",
              "      <td>...</td>\n",
              "      <td>...</td>\n",
              "      <td>...</td>\n",
              "      <td>...</td>\n",
              "      <td>...</td>\n",
              "      <td>...</td>\n",
              "      <td>...</td>\n",
              "    </tr>\n",
              "    <tr>\n",
              "      <th>112645</th>\n",
              "      <td>1dceebcc5f23c02ea23e16d5bedca000</td>\n",
              "      <td>cds_dvds_musicals</td>\n",
              "      <td>550.0</td>\n",
              "      <td>35.0</td>\n",
              "      <td>15.0</td>\n",
              "      <td>25.0</td>\n",
              "      <td>65.00</td>\n",
              "      <td>14</td>\n",
              "    </tr>\n",
              "    <tr>\n",
              "      <th>112646</th>\n",
              "      <td>1dceebcc5f23c02ea23e16d5bedca000</td>\n",
              "      <td>cds_dvds_musicals</td>\n",
              "      <td>550.0</td>\n",
              "      <td>35.0</td>\n",
              "      <td>15.0</td>\n",
              "      <td>25.0</td>\n",
              "      <td>45.00</td>\n",
              "      <td>14</td>\n",
              "    </tr>\n",
              "    <tr>\n",
              "      <th>112647</th>\n",
              "      <td>1dceebcc5f23c02ea23e16d5bedca000</td>\n",
              "      <td>cds_dvds_musicals</td>\n",
              "      <td>550.0</td>\n",
              "      <td>35.0</td>\n",
              "      <td>15.0</td>\n",
              "      <td>25.0</td>\n",
              "      <td>65.00</td>\n",
              "      <td>14</td>\n",
              "    </tr>\n",
              "    <tr>\n",
              "      <th>112648</th>\n",
              "      <td>1dceebcc5f23c02ea23e16d5bedca000</td>\n",
              "      <td>cds_dvds_musicals</td>\n",
              "      <td>550.0</td>\n",
              "      <td>35.0</td>\n",
              "      <td>15.0</td>\n",
              "      <td>25.0</td>\n",
              "      <td>45.00</td>\n",
              "      <td>14</td>\n",
              "    </tr>\n",
              "    <tr>\n",
              "      <th>112649</th>\n",
              "      <td>1dceebcc5f23c02ea23e16d5bedca000</td>\n",
              "      <td>cds_dvds_musicals</td>\n",
              "      <td>550.0</td>\n",
              "      <td>35.0</td>\n",
              "      <td>15.0</td>\n",
              "      <td>25.0</td>\n",
              "      <td>65.00</td>\n",
              "      <td>14</td>\n",
              "    </tr>\n",
              "  </tbody>\n",
              "</table>\n",
              "<p>112650 rows × 8 columns</p>\n",
              "</div>"
            ],
            "text/plain": [
              "                              product_id product_category_name_english  \\\n",
              "0       1e9e8ef04dbcff4541ed26657ea517e5                     perfumery   \n",
              "1       6a2fb4dd53d2cdb88e0432f1284a004c                     perfumery   \n",
              "2       6a2fb4dd53d2cdb88e0432f1284a004c                     perfumery   \n",
              "3       0d009643171aee696f4733340bc2fdd0                     perfumery   \n",
              "4       0d009643171aee696f4733340bc2fdd0                     perfumery   \n",
              "...                                  ...                           ...   \n",
              "112645  1dceebcc5f23c02ea23e16d5bedca000             cds_dvds_musicals   \n",
              "112646  1dceebcc5f23c02ea23e16d5bedca000             cds_dvds_musicals   \n",
              "112647  1dceebcc5f23c02ea23e16d5bedca000             cds_dvds_musicals   \n",
              "112648  1dceebcc5f23c02ea23e16d5bedca000             cds_dvds_musicals   \n",
              "112649  1dceebcc5f23c02ea23e16d5bedca000             cds_dvds_musicals   \n",
              "\n",
              "        product_weight_g  product_length_cm  product_height_cm  \\\n",
              "0                  225.0               16.0               10.0   \n",
              "1                  400.0               27.0                5.0   \n",
              "2                  400.0               27.0                5.0   \n",
              "3                  422.0               21.0               16.0   \n",
              "4                  422.0               21.0               16.0   \n",
              "...                  ...                ...                ...   \n",
              "112645             550.0               35.0               15.0   \n",
              "112646             550.0               35.0               15.0   \n",
              "112647             550.0               35.0               15.0   \n",
              "112648             550.0               35.0               15.0   \n",
              "112649             550.0               35.0               15.0   \n",
              "\n",
              "        product_width_cm   price  count_sold  \n",
              "0                   14.0   10.91           1  \n",
              "1                   20.0   16.90           2  \n",
              "2                   20.0   16.90           2  \n",
              "3                   18.0  339.00          11  \n",
              "4                   18.0  275.00          11  \n",
              "...                  ...     ...         ...  \n",
              "112645              25.0   65.00          14  \n",
              "112646              25.0   45.00          14  \n",
              "112647              25.0   65.00          14  \n",
              "112648              25.0   45.00          14  \n",
              "112649              25.0   65.00          14  \n",
              "\n",
              "[112650 rows x 8 columns]"
            ]
          },
          "execution_count": 28,
          "metadata": {},
          "output_type": "execute_result"
        }
      ],
      "source": [
        "#Menyiapkan dataframe untuk clustering product\n",
        "Analisis = pd.merge(df[['product_id', 'product_category_name_english', 'product_weight_g', 'product_length_cm', 'product_height_cm', 'product_width_cm', 'price']], df.groupby('product_id').size().reset_index(name='count_sold'), on='product_id', how='outer')\n",
        "Analisis"
      ]
    },
    {
      "cell_type": "code",
      "execution_count": 40,
      "metadata": {
        "colab": {
          "base_uri": "https://localhost:8080/",
          "height": 424
        },
        "id": "L8ekjfyJt6EU",
        "outputId": "468bd5c0-1f73-4ef3-9f96-90b583f96c2e"
      },
      "outputs": [
        {
          "data": {
            "text/html": [
              "<div>\n",
              "<style scoped>\n",
              "    .dataframe tbody tr th:only-of-type {\n",
              "        vertical-align: middle;\n",
              "    }\n",
              "\n",
              "    .dataframe tbody tr th {\n",
              "        vertical-align: top;\n",
              "    }\n",
              "\n",
              "    .dataframe thead th {\n",
              "        text-align: right;\n",
              "    }\n",
              "</style>\n",
              "<table border=\"1\" class=\"dataframe\">\n",
              "  <thead>\n",
              "    <tr style=\"text-align: right;\">\n",
              "      <th></th>\n",
              "      <th>product_category_name_english</th>\n",
              "      <th>product_weight_g</th>\n",
              "      <th>product_length_cm</th>\n",
              "      <th>product_height_cm</th>\n",
              "      <th>product_width_cm</th>\n",
              "      <th>price</th>\n",
              "      <th>count_sold</th>\n",
              "    </tr>\n",
              "  </thead>\n",
              "  <tbody>\n",
              "    <tr>\n",
              "      <th>0</th>\n",
              "      <td>agro_industry_and_commerce</td>\n",
              "      <td>3625.113208</td>\n",
              "      <td>28.938679</td>\n",
              "      <td>23.787736</td>\n",
              "      <td>20.867925</td>\n",
              "      <td>342.124858</td>\n",
              "      <td>1926</td>\n",
              "    </tr>\n",
              "    <tr>\n",
              "      <th>1</th>\n",
              "      <td>air_conditioning</td>\n",
              "      <td>4118.016835</td>\n",
              "      <td>38.585859</td>\n",
              "      <td>21.464646</td>\n",
              "      <td>26.191919</td>\n",
              "      <td>185.269226</td>\n",
              "      <td>1533</td>\n",
              "    </tr>\n",
              "    <tr>\n",
              "      <th>2</th>\n",
              "      <td>art</td>\n",
              "      <td>1557.545455</td>\n",
              "      <td>49.043062</td>\n",
              "      <td>8.535885</td>\n",
              "      <td>36.531100</td>\n",
              "      <td>115.802105</td>\n",
              "      <td>11795</td>\n",
              "    </tr>\n",
              "    <tr>\n",
              "      <th>3</th>\n",
              "      <td>arts_and_craftmanship</td>\n",
              "      <td>1369.875000</td>\n",
              "      <td>30.916667</td>\n",
              "      <td>10.916667</td>\n",
              "      <td>21.541667</td>\n",
              "      <td>75.583750</td>\n",
              "      <td>46</td>\n",
              "    </tr>\n",
              "    <tr>\n",
              "      <th>4</th>\n",
              "      <td>audio</td>\n",
              "      <td>1218.423077</td>\n",
              "      <td>20.065934</td>\n",
              "      <td>9.478022</td>\n",
              "      <td>15.494505</td>\n",
              "      <td>139.254121</td>\n",
              "      <td>9008</td>\n",
              "    </tr>\n",
              "    <tr>\n",
              "      <th>...</th>\n",
              "      <td>...</td>\n",
              "      <td>...</td>\n",
              "      <td>...</td>\n",
              "      <td>...</td>\n",
              "      <td>...</td>\n",
              "      <td>...</td>\n",
              "      <td>...</td>\n",
              "    </tr>\n",
              "    <tr>\n",
              "      <th>66</th>\n",
              "      <td>stationery</td>\n",
              "      <td>2751.514899</td>\n",
              "      <td>35.012714</td>\n",
              "      <td>21.625745</td>\n",
              "      <td>25.176798</td>\n",
              "      <td>91.753369</td>\n",
              "      <td>35207</td>\n",
              "    </tr>\n",
              "    <tr>\n",
              "      <th>67</th>\n",
              "      <td>tablets_printing_image</td>\n",
              "      <td>307.096386</td>\n",
              "      <td>25.506024</td>\n",
              "      <td>9.626506</td>\n",
              "      <td>23.277108</td>\n",
              "      <td>90.703735</td>\n",
              "      <td>1811</td>\n",
              "    </tr>\n",
              "    <tr>\n",
              "      <th>68</th>\n",
              "      <td>telephony</td>\n",
              "      <td>261.622222</td>\n",
              "      <td>18.389439</td>\n",
              "      <td>6.354675</td>\n",
              "      <td>13.399120</td>\n",
              "      <td>71.213978</td>\n",
              "      <td>82335</td>\n",
              "    </tr>\n",
              "    <tr>\n",
              "      <th>69</th>\n",
              "      <td>toys</td>\n",
              "      <td>1857.368472</td>\n",
              "      <td>30.700510</td>\n",
              "      <td>21.154967</td>\n",
              "      <td>24.594851</td>\n",
              "      <td>117.548360</td>\n",
              "      <td>64571</td>\n",
              "    </tr>\n",
              "    <tr>\n",
              "      <th>70</th>\n",
              "      <td>watches_gifts</td>\n",
              "      <td>580.976632</td>\n",
              "      <td>19.567351</td>\n",
              "      <td>8.845936</td>\n",
              "      <td>15.217326</td>\n",
              "      <td>201.135984</td>\n",
              "      <td>374885</td>\n",
              "    </tr>\n",
              "  </tbody>\n",
              "</table>\n",
              "<p>71 rows × 7 columns</p>\n",
              "</div>"
            ],
            "text/plain": [
              "   product_category_name_english  product_weight_g  product_length_cm  \\\n",
              "0     agro_industry_and_commerce       3625.113208          28.938679   \n",
              "1               air_conditioning       4118.016835          38.585859   \n",
              "2                            art       1557.545455          49.043062   \n",
              "3          arts_and_craftmanship       1369.875000          30.916667   \n",
              "4                          audio       1218.423077          20.065934   \n",
              "..                           ...               ...                ...   \n",
              "66                    stationery       2751.514899          35.012714   \n",
              "67        tablets_printing_image        307.096386          25.506024   \n",
              "68                     telephony        261.622222          18.389439   \n",
              "69                          toys       1857.368472          30.700510   \n",
              "70                 watches_gifts        580.976632          19.567351   \n",
              "\n",
              "    product_height_cm  product_width_cm       price  count_sold  \n",
              "0           23.787736         20.867925  342.124858        1926  \n",
              "1           21.464646         26.191919  185.269226        1533  \n",
              "2            8.535885         36.531100  115.802105       11795  \n",
              "3           10.916667         21.541667   75.583750          46  \n",
              "4            9.478022         15.494505  139.254121        9008  \n",
              "..                ...               ...         ...         ...  \n",
              "66          21.625745         25.176798   91.753369       35207  \n",
              "67           9.626506         23.277108   90.703735        1811  \n",
              "68           6.354675         13.399120   71.213978       82335  \n",
              "69          21.154967         24.594851  117.548360       64571  \n",
              "70           8.845936         15.217326  201.135984      374885  \n",
              "\n",
              "[71 rows x 7 columns]"
            ]
          },
          "execution_count": 40,
          "metadata": {},
          "output_type": "execute_result"
        }
      ],
      "source": [
        "clustering = Analisis.groupby('product_category_name_english').agg({\n",
        "    'product_weight_g': 'mean',\n",
        "    'product_length_cm': 'mean',\n",
        "    'product_height_cm': 'mean',\n",
        "    'product_width_cm': 'mean',\n",
        "    'price': 'mean',\n",
        "    'count_sold': 'sum'\n",
        "}).reset_index()\n",
        "clustering"
      ]
    },
    {
      "cell_type": "code",
      "execution_count": 41,
      "metadata": {
        "colab": {
          "base_uri": "https://localhost:8080/",
          "height": 478
        },
        "id": "ttiCXGpDt-V5",
        "outputId": "557f6a2c-d2fe-4097-8dbb-31e6abaf6ca7"
      },
      "outputs": [
        {
          "data": {
            "text/html": [
              "<div>\n",
              "<style scoped>\n",
              "    .dataframe tbody tr th:only-of-type {\n",
              "        vertical-align: middle;\n",
              "    }\n",
              "\n",
              "    .dataframe tbody tr th {\n",
              "        vertical-align: top;\n",
              "    }\n",
              "\n",
              "    .dataframe thead th {\n",
              "        text-align: right;\n",
              "    }\n",
              "</style>\n",
              "<table border=\"1\" class=\"dataframe\">\n",
              "  <thead>\n",
              "    <tr style=\"text-align: right;\">\n",
              "      <th></th>\n",
              "      <th>product_category_name_english</th>\n",
              "      <th>product_weight_g</th>\n",
              "      <th>product_length_cm</th>\n",
              "      <th>product_height_cm</th>\n",
              "      <th>product_width_cm</th>\n",
              "      <th>price</th>\n",
              "      <th>count_sold</th>\n",
              "      <th>cluster</th>\n",
              "    </tr>\n",
              "  </thead>\n",
              "  <tbody>\n",
              "    <tr>\n",
              "      <th>0</th>\n",
              "      <td>agro_industry_and_commerce</td>\n",
              "      <td>3625.113208</td>\n",
              "      <td>28.938679</td>\n",
              "      <td>23.787736</td>\n",
              "      <td>20.867925</td>\n",
              "      <td>342.124858</td>\n",
              "      <td>1926</td>\n",
              "      <td>0</td>\n",
              "    </tr>\n",
              "    <tr>\n",
              "      <th>1</th>\n",
              "      <td>air_conditioning</td>\n",
              "      <td>4118.016835</td>\n",
              "      <td>38.585859</td>\n",
              "      <td>21.464646</td>\n",
              "      <td>26.191919</td>\n",
              "      <td>185.269226</td>\n",
              "      <td>1533</td>\n",
              "      <td>0</td>\n",
              "    </tr>\n",
              "    <tr>\n",
              "      <th>2</th>\n",
              "      <td>art</td>\n",
              "      <td>1557.545455</td>\n",
              "      <td>49.043062</td>\n",
              "      <td>8.535885</td>\n",
              "      <td>36.531100</td>\n",
              "      <td>115.802105</td>\n",
              "      <td>11795</td>\n",
              "      <td>0</td>\n",
              "    </tr>\n",
              "    <tr>\n",
              "      <th>3</th>\n",
              "      <td>arts_and_craftmanship</td>\n",
              "      <td>1369.875000</td>\n",
              "      <td>30.916667</td>\n",
              "      <td>10.916667</td>\n",
              "      <td>21.541667</td>\n",
              "      <td>75.583750</td>\n",
              "      <td>46</td>\n",
              "      <td>0</td>\n",
              "    </tr>\n",
              "    <tr>\n",
              "      <th>4</th>\n",
              "      <td>audio</td>\n",
              "      <td>1218.423077</td>\n",
              "      <td>20.065934</td>\n",
              "      <td>9.478022</td>\n",
              "      <td>15.494505</td>\n",
              "      <td>139.254121</td>\n",
              "      <td>9008</td>\n",
              "      <td>0</td>\n",
              "    </tr>\n",
              "    <tr>\n",
              "      <th>...</th>\n",
              "      <td>...</td>\n",
              "      <td>...</td>\n",
              "      <td>...</td>\n",
              "      <td>...</td>\n",
              "      <td>...</td>\n",
              "      <td>...</td>\n",
              "      <td>...</td>\n",
              "      <td>...</td>\n",
              "    </tr>\n",
              "    <tr>\n",
              "      <th>66</th>\n",
              "      <td>stationery</td>\n",
              "      <td>2751.514899</td>\n",
              "      <td>35.012714</td>\n",
              "      <td>21.625745</td>\n",
              "      <td>25.176798</td>\n",
              "      <td>91.753369</td>\n",
              "      <td>35207</td>\n",
              "      <td>0</td>\n",
              "    </tr>\n",
              "    <tr>\n",
              "      <th>67</th>\n",
              "      <td>tablets_printing_image</td>\n",
              "      <td>307.096386</td>\n",
              "      <td>25.506024</td>\n",
              "      <td>9.626506</td>\n",
              "      <td>23.277108</td>\n",
              "      <td>90.703735</td>\n",
              "      <td>1811</td>\n",
              "      <td>0</td>\n",
              "    </tr>\n",
              "    <tr>\n",
              "      <th>68</th>\n",
              "      <td>telephony</td>\n",
              "      <td>261.622222</td>\n",
              "      <td>18.389439</td>\n",
              "      <td>6.354675</td>\n",
              "      <td>13.399120</td>\n",
              "      <td>71.213978</td>\n",
              "      <td>82335</td>\n",
              "      <td>0</td>\n",
              "    </tr>\n",
              "    <tr>\n",
              "      <th>69</th>\n",
              "      <td>toys</td>\n",
              "      <td>1857.368472</td>\n",
              "      <td>30.700510</td>\n",
              "      <td>21.154967</td>\n",
              "      <td>24.594851</td>\n",
              "      <td>117.548360</td>\n",
              "      <td>64571</td>\n",
              "      <td>0</td>\n",
              "    </tr>\n",
              "    <tr>\n",
              "      <th>70</th>\n",
              "      <td>watches_gifts</td>\n",
              "      <td>580.976632</td>\n",
              "      <td>19.567351</td>\n",
              "      <td>8.845936</td>\n",
              "      <td>15.217326</td>\n",
              "      <td>201.135984</td>\n",
              "      <td>374885</td>\n",
              "      <td>1</td>\n",
              "    </tr>\n",
              "  </tbody>\n",
              "</table>\n",
              "<p>71 rows × 8 columns</p>\n",
              "</div>"
            ],
            "text/plain": [
              "   product_category_name_english  product_weight_g  product_length_cm  \\\n",
              "0     agro_industry_and_commerce       3625.113208          28.938679   \n",
              "1               air_conditioning       4118.016835          38.585859   \n",
              "2                            art       1557.545455          49.043062   \n",
              "3          arts_and_craftmanship       1369.875000          30.916667   \n",
              "4                          audio       1218.423077          20.065934   \n",
              "..                           ...               ...                ...   \n",
              "66                    stationery       2751.514899          35.012714   \n",
              "67        tablets_printing_image        307.096386          25.506024   \n",
              "68                     telephony        261.622222          18.389439   \n",
              "69                          toys       1857.368472          30.700510   \n",
              "70                 watches_gifts        580.976632          19.567351   \n",
              "\n",
              "    product_height_cm  product_width_cm       price  count_sold  cluster  \n",
              "0           23.787736         20.867925  342.124858        1926        0  \n",
              "1           21.464646         26.191919  185.269226        1533        0  \n",
              "2            8.535885         36.531100  115.802105       11795        0  \n",
              "3           10.916667         21.541667   75.583750          46        0  \n",
              "4            9.478022         15.494505  139.254121        9008        0  \n",
              "..                ...               ...         ...         ...      ...  \n",
              "66          21.625745         25.176798   91.753369       35207        0  \n",
              "67           9.626506         23.277108   90.703735        1811        0  \n",
              "68           6.354675         13.399120   71.213978       82335        0  \n",
              "69          21.154967         24.594851  117.548360       64571        0  \n",
              "70           8.845936         15.217326  201.135984      374885        1  \n",
              "\n",
              "[71 rows x 8 columns]"
            ]
          },
          "execution_count": 41,
          "metadata": {},
          "output_type": "execute_result"
        }
      ],
      "source": [
        "#Clustering Produk dengan fitur-fitur pada tabel di atas dengan menggunakan metode k-means menjadi 3 cluster, yakni produk paling laku, produk laku, dan produk kurang laku\n",
        "np.random.seed(21060)\n",
        "X = clustering[['product_weight_g', 'product_length_cm', 'product_height_cm', 'product_width_cm', 'price', 'count_sold' ]]\n",
        "kmeans = KMeans(n_clusters=3)\n",
        "kmeans.fit(X)\n",
        "clustering['cluster']=kmeans.predict(X)\n",
        "clustering"
      ]
    },
    {
      "cell_type": "code",
      "execution_count": 31,
      "metadata": {
        "colab": {
          "base_uri": "https://localhost:8080/"
        },
        "id": "0JN33YtQu-4k",
        "outputId": "da2f3c29-5855-4165-f8c9-1e58ad69c586"
      },
      "outputs": [
        {
          "data": {
            "text/plain": [
              "1110615"
            ]
          },
          "execution_count": 31,
          "metadata": {},
          "output_type": "execute_result"
        }
      ],
      "source": [
        "clustering[clustering['cluster']==0]['count_sold'].sum()"
      ]
    },
    {
      "cell_type": "code",
      "execution_count": 32,
      "metadata": {
        "colab": {
          "base_uri": "https://localhost:8080/"
        },
        "id": "ec_PgMn5vaX5",
        "outputId": "b1617e82-d149-4187-92e1-66508ca1cb0a"
      },
      "outputs": [
        {
          "data": {
            "text/plain": [
              "2141149"
            ]
          },
          "execution_count": 32,
          "metadata": {},
          "output_type": "execute_result"
        }
      ],
      "source": [
        "clustering[clustering['cluster']==1]['count_sold'].sum()"
      ]
    },
    {
      "cell_type": "code",
      "execution_count": 33,
      "metadata": {
        "colab": {
          "base_uri": "https://localhost:8080/"
        },
        "id": "27FzV4ZzveI0",
        "outputId": "86d797c3-50b0-4051-966a-5c7a596c78c9"
      },
      "outputs": [
        {
          "data": {
            "text/plain": [
              "798495"
            ]
          },
          "execution_count": 33,
          "metadata": {},
          "output_type": "execute_result"
        }
      ],
      "source": [
        "clustering[clustering['cluster']==2]['count_sold'].sum()"
      ]
    },
    {
      "attachments": {},
      "cell_type": "markdown",
      "metadata": {
        "id": "zZJV9sqTDGnw"
      },
      "source": []
    },
    {
      "cell_type": "code",
      "execution_count": 34,
      "metadata": {
        "colab": {
          "base_uri": "https://localhost:8080/",
          "height": 424
        },
        "id": "lsnQQhGmBoBy",
        "outputId": "98bba894-91c9-495b-b346-baf052d0152e"
      },
      "outputs": [
        {
          "data": {
            "text/html": [
              "<div>\n",
              "<style scoped>\n",
              "    .dataframe tbody tr th:only-of-type {\n",
              "        vertical-align: middle;\n",
              "    }\n",
              "\n",
              "    .dataframe tbody tr th {\n",
              "        vertical-align: top;\n",
              "    }\n",
              "\n",
              "    .dataframe thead th {\n",
              "        text-align: right;\n",
              "    }\n",
              "</style>\n",
              "<table border=\"1\" class=\"dataframe\">\n",
              "  <thead>\n",
              "    <tr style=\"text-align: right;\">\n",
              "      <th></th>\n",
              "      <th>product_category_name_english</th>\n",
              "      <th>product_weight_g</th>\n",
              "      <th>product_length_cm</th>\n",
              "      <th>product_height_cm</th>\n",
              "      <th>product_width_cm</th>\n",
              "      <th>price</th>\n",
              "      <th>count_sold</th>\n",
              "      <th>Tingkat Kelakuan</th>\n",
              "    </tr>\n",
              "  </thead>\n",
              "  <tbody>\n",
              "    <tr>\n",
              "      <th>0</th>\n",
              "      <td>agro_industry_and_commerce</td>\n",
              "      <td>3625.113208</td>\n",
              "      <td>28.938679</td>\n",
              "      <td>23.787736</td>\n",
              "      <td>20.867925</td>\n",
              "      <td>342.124858</td>\n",
              "      <td>1926</td>\n",
              "      <td>Laku</td>\n",
              "    </tr>\n",
              "    <tr>\n",
              "      <th>1</th>\n",
              "      <td>air_conditioning</td>\n",
              "      <td>4118.016835</td>\n",
              "      <td>38.585859</td>\n",
              "      <td>21.464646</td>\n",
              "      <td>26.191919</td>\n",
              "      <td>185.269226</td>\n",
              "      <td>1533</td>\n",
              "      <td>Laku</td>\n",
              "    </tr>\n",
              "    <tr>\n",
              "      <th>2</th>\n",
              "      <td>art</td>\n",
              "      <td>1557.545455</td>\n",
              "      <td>49.043062</td>\n",
              "      <td>8.535885</td>\n",
              "      <td>36.531100</td>\n",
              "      <td>115.802105</td>\n",
              "      <td>11795</td>\n",
              "      <td>Laku</td>\n",
              "    </tr>\n",
              "    <tr>\n",
              "      <th>3</th>\n",
              "      <td>arts_and_craftmanship</td>\n",
              "      <td>1369.875000</td>\n",
              "      <td>30.916667</td>\n",
              "      <td>10.916667</td>\n",
              "      <td>21.541667</td>\n",
              "      <td>75.583750</td>\n",
              "      <td>46</td>\n",
              "      <td>Laku</td>\n",
              "    </tr>\n",
              "    <tr>\n",
              "      <th>4</th>\n",
              "      <td>audio</td>\n",
              "      <td>1218.423077</td>\n",
              "      <td>20.065934</td>\n",
              "      <td>9.478022</td>\n",
              "      <td>15.494505</td>\n",
              "      <td>139.254121</td>\n",
              "      <td>9008</td>\n",
              "      <td>Laku</td>\n",
              "    </tr>\n",
              "    <tr>\n",
              "      <th>...</th>\n",
              "      <td>...</td>\n",
              "      <td>...</td>\n",
              "      <td>...</td>\n",
              "      <td>...</td>\n",
              "      <td>...</td>\n",
              "      <td>...</td>\n",
              "      <td>...</td>\n",
              "      <td>...</td>\n",
              "    </tr>\n",
              "    <tr>\n",
              "      <th>66</th>\n",
              "      <td>stationery</td>\n",
              "      <td>2751.514899</td>\n",
              "      <td>35.012714</td>\n",
              "      <td>21.625745</td>\n",
              "      <td>25.176798</td>\n",
              "      <td>91.753369</td>\n",
              "      <td>35207</td>\n",
              "      <td>Laku</td>\n",
              "    </tr>\n",
              "    <tr>\n",
              "      <th>67</th>\n",
              "      <td>tablets_printing_image</td>\n",
              "      <td>307.096386</td>\n",
              "      <td>25.506024</td>\n",
              "      <td>9.626506</td>\n",
              "      <td>23.277108</td>\n",
              "      <td>90.703735</td>\n",
              "      <td>1811</td>\n",
              "      <td>Laku</td>\n",
              "    </tr>\n",
              "    <tr>\n",
              "      <th>68</th>\n",
              "      <td>telephony</td>\n",
              "      <td>261.622222</td>\n",
              "      <td>18.389439</td>\n",
              "      <td>6.354675</td>\n",
              "      <td>13.399120</td>\n",
              "      <td>71.213978</td>\n",
              "      <td>82335</td>\n",
              "      <td>Laku</td>\n",
              "    </tr>\n",
              "    <tr>\n",
              "      <th>69</th>\n",
              "      <td>toys</td>\n",
              "      <td>1857.368472</td>\n",
              "      <td>30.700510</td>\n",
              "      <td>21.154967</td>\n",
              "      <td>24.594851</td>\n",
              "      <td>117.548360</td>\n",
              "      <td>64571</td>\n",
              "      <td>Laku</td>\n",
              "    </tr>\n",
              "    <tr>\n",
              "      <th>70</th>\n",
              "      <td>watches_gifts</td>\n",
              "      <td>580.976632</td>\n",
              "      <td>19.567351</td>\n",
              "      <td>8.845936</td>\n",
              "      <td>15.217326</td>\n",
              "      <td>201.135984</td>\n",
              "      <td>374885</td>\n",
              "      <td>Sangat Laku</td>\n",
              "    </tr>\n",
              "  </tbody>\n",
              "</table>\n",
              "<p>71 rows × 8 columns</p>\n",
              "</div>"
            ],
            "text/plain": [
              "   product_category_name_english  product_weight_g  product_length_cm  \\\n",
              "0     agro_industry_and_commerce       3625.113208          28.938679   \n",
              "1               air_conditioning       4118.016835          38.585859   \n",
              "2                            art       1557.545455          49.043062   \n",
              "3          arts_and_craftmanship       1369.875000          30.916667   \n",
              "4                          audio       1218.423077          20.065934   \n",
              "..                           ...               ...                ...   \n",
              "66                    stationery       2751.514899          35.012714   \n",
              "67        tablets_printing_image        307.096386          25.506024   \n",
              "68                     telephony        261.622222          18.389439   \n",
              "69                          toys       1857.368472          30.700510   \n",
              "70                 watches_gifts        580.976632          19.567351   \n",
              "\n",
              "    product_height_cm  product_width_cm       price  count_sold  \\\n",
              "0           23.787736         20.867925  342.124858        1926   \n",
              "1           21.464646         26.191919  185.269226        1533   \n",
              "2            8.535885         36.531100  115.802105       11795   \n",
              "3           10.916667         21.541667   75.583750          46   \n",
              "4            9.478022         15.494505  139.254121        9008   \n",
              "..                ...               ...         ...         ...   \n",
              "66          21.625745         25.176798   91.753369       35207   \n",
              "67           9.626506         23.277108   90.703735        1811   \n",
              "68           6.354675         13.399120   71.213978       82335   \n",
              "69          21.154967         24.594851  117.548360       64571   \n",
              "70           8.845936         15.217326  201.135984      374885   \n",
              "\n",
              "   Tingkat Kelakuan  \n",
              "0              Laku  \n",
              "1              Laku  \n",
              "2              Laku  \n",
              "3              Laku  \n",
              "4              Laku  \n",
              "..              ...  \n",
              "66             Laku  \n",
              "67             Laku  \n",
              "68             Laku  \n",
              "69             Laku  \n",
              "70      Sangat Laku  \n",
              "\n",
              "[71 rows x 8 columns]"
            ]
          },
          "execution_count": 34,
          "metadata": {},
          "output_type": "execute_result"
        }
      ],
      "source": [
        "output = clustering\n",
        "output['Tingkat Kelakuan'] = np.where(output['cluster'] == 0, 'Laku',\n",
        "                                    np.where(output['cluster'] == 1, 'Sangat Laku', 'Kurang Laku'))\n",
        "output = output.drop(columns=['cluster'])\n",
        "output\n"
      ]
    },
    {
      "cell_type": "code",
      "execution_count": 35,
      "metadata": {
        "colab": {
          "base_uri": "https://localhost:8080/"
        },
        "id": "MyhsuqraEyfA",
        "outputId": "fb23f83b-0ff7-44cb-e43e-ef2bbefbf37c"
      },
      "outputs": [
        {
          "data": {
            "text/plain": [
              "1098.3405418719212"
            ]
          },
          "execution_count": 35,
          "metadata": {},
          "output_type": "execute_result"
        }
      ],
      "source": [
        "output['price'].max()"
      ]
    }
  ],
  "metadata": {
    "colab": {
      "provenance": []
    },
    "kernelspec": {
      "display_name": "Python 3",
      "language": "python",
      "name": "python3"
    },
    "language_info": {
      "codemirror_mode": {
        "name": "ipython",
        "version": 3
      },
      "file_extension": ".py",
      "mimetype": "text/x-python",
      "name": "python",
      "nbconvert_exporter": "python",
      "pygments_lexer": "ipython3",
      "version": "3.9.13"
    },
    "orig_nbformat": 4,
    "vscode": {
      "interpreter": {
        "hash": "972b3bf27e332e87b5379f2791f6ef9dfc79c71018c370b0d7423235e20fe4d7"
      }
    }
  },
  "nbformat": 4,
  "nbformat_minor": 0
}
